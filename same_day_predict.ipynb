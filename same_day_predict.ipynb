{
 "cells": [
  {
   "attachments": {},
   "cell_type": "markdown",
   "metadata": {},
   "source": [
    "## import"
   ]
  },
  {
   "cell_type": "code",
   "execution_count": 1,
   "metadata": {},
   "outputs": [
    {
     "data": {
      "text/html": [
       "<style type='text/css'>\n",
       ".datatable table.frame { margin-bottom: 0; }\n",
       ".datatable table.frame thead { border-bottom: none; }\n",
       ".datatable table.frame tr.coltypes td {  color: #FFFFFF;  line-height: 6px;  padding: 0 0.5em;}\n",
       ".datatable .bool    { background: #DDDD99; }\n",
       ".datatable .object  { background: #565656; }\n",
       ".datatable .int     { background: #5D9E5D; }\n",
       ".datatable .float   { background: #4040CC; }\n",
       ".datatable .str     { background: #CC4040; }\n",
       ".datatable .time    { background: #40CC40; }\n",
       ".datatable .row_index {  background: var(--jp-border-color3);  border-right: 1px solid var(--jp-border-color0);  color: var(--jp-ui-font-color3);  font-size: 9px;}\n",
       ".datatable .frame tbody td { text-align: left; }\n",
       ".datatable .frame tr.coltypes .row_index {  background: var(--jp-border-color0);}\n",
       ".datatable th:nth-child(2) { padding-left: 12px; }\n",
       ".datatable .hellipsis {  color: var(--jp-cell-editor-border-color);}\n",
       ".datatable .vellipsis {  background: var(--jp-layout-color0);  color: var(--jp-cell-editor-border-color);}\n",
       ".datatable .na {  color: var(--jp-cell-editor-border-color);  font-size: 80%;}\n",
       ".datatable .sp {  opacity: 0.25;}\n",
       ".datatable .footer { font-size: 9px; }\n",
       ".datatable .frame_dimensions {  background: var(--jp-border-color3);  border-top: 1px solid var(--jp-border-color0);  color: var(--jp-ui-font-color3);  display: inline-block;  opacity: 0.6;  padding: 1px 10px 1px 5px;}\n",
       "</style>\n"
      ],
      "text/plain": [
       "<IPython.core.display.HTML object>"
      ]
     },
     "metadata": {},
     "output_type": "display_data"
    }
   ],
   "source": [
    "import numpy as np\n",
    "import pandas as pd\n",
    "import matplotlib.pyplot as pyplot\n",
    "import seaborn as sns; sns.set()\n",
    "import lightgbm as lgb\n",
    "from sklearn.metrics import accuracy_score\n",
    "from sklearn.metrics import log_loss\n",
    "from sklearn.metrics import roc_auc_score\n",
    "import re\n",
    "from bs4 import BeautifulSoup\n",
    "from urllib import request\n",
    "from urllib.request import urlopen\n",
    "import time\n",
    "from sklearn.preprocessing import StandardScaler"
   ]
  },
  {
   "attachments": {},
   "cell_type": "markdown",
   "metadata": {},
   "source": [
    "## class・関数 定義"
   ]
  },
  {
   "cell_type": "code",
   "execution_count": 5,
   "metadata": {},
   "outputs": [
    {
     "ename": "IndentationError",
     "evalue": "expected an indented block (1797522460.py, line 29)",
     "output_type": "error",
     "traceback": [
      "\u001b[0;36m  File \u001b[0;32m\"/tmp/ipykernel_567985/1797522460.py\"\u001b[0;36m, line \u001b[0;32m29\u001b[0m\n\u001b[0;31m    def gbm(self):\u001b[0m\n\u001b[0m      ^\u001b[0m\n\u001b[0;31mIndentationError\u001b[0m\u001b[0;31m:\u001b[0m expected an indented block\n"
     ]
    }
   ],
   "source": [
    "class prediction:\n",
    "    \n",
    "    def __init__(self):\n",
    "        self.get_jcd()\n",
    "        self.my_list = []\n",
    "        self.get_predict_day()\n",
    "        self.get_rno()\n",
    "        self.read_csv()\n",
    "        self.process()\n",
    "        self.gbm()\n",
    "        self.predict()\n",
    "        \n",
    "    def get_predict_day(self):\n",
    "        self.predict_day = input('予測したい日をyyyymmdd型で入力:')\n",
    "        \n",
    "    def get_jcd(self):\n",
    "        #2桁で入力やで\n",
    "        self.jcd = input('予測したい場を2桁で入力:')\n",
    "        \n",
    "    def get_rno(self):\n",
    "        self.rno = input('予測したいラウンドを入力:')\n",
    "    \n",
    "    def read_csv(self):\n",
    "        self.df = pd.read_csv('/volume_dir/boatrace/merged_df.csv')\n",
    "        self.odds = pd.read_csv('/volume_dir/boatrace/odds_csv/odds.csv')\n",
    "    \n",
    "    def process(self):\n",
    "        # ここで前処理を行う\n",
    "    def gbm(self):\n",
    "        # ここでGBMを行う\n",
    "        pass\n",
    "    \n",
    "    def collect_data(self):\n",
    "        rno\n",
    "        url='https://www.boatrace.jp/owpc/pc/race/racelist?rno='+str(rno)+\\\n",
    "            '&jcd='+str(self.jcd).zfill(2)+'&hd='+str(self.predict_day)\n",
    "        time.sleep(1)\n",
    "        response=request.urlopen(url)\n",
    "        soup=BeautifulSoup(response,'html.parser')\n",
    "        response.close()\n",
    "        data = []\n",
    "        for i in range(0,6):\n",
    "            table = soup.find_all('tbody',class_='is-fs12')[i].get_text()\n",
    "            # 番号を抽出する\n",
    "            number = re.search(r'\\d+', table).group()\n",
    "            # 名前を抽出する\n",
    "            name = re.search(r'\\n\\n(.+)\\n\\n(.+)\\n', table).group(1).strip().replace('\\u3000','')\n",
    "            # 場所を抽出する\n",
    "            location = re.search(r'\\n\\n(.+)\\n\\n(.+)\\n', table).group(2).strip().replace('/','')\n",
    "            # 年齢と体重を抽出する\n",
    "            age, weight = re.search(r'(\\d+歳)/(\\d+\\.\\d+kg)', table).groups()\n",
    "            # 数字のリストを抽出する\n",
    "            numbers = re.findall(r'(\\d+\\.\\d+)', table)\n",
    "            a_numbers = re.findall(r'(\\d+)',table)\n",
    "            location = location[:2]\n",
    "            age = age.replace('歳','')\n",
    "            weight = weight.replace('kg','')\n",
    "            motor = a_numbers[22]\n",
    "            boat= a_numbers[27]\n",
    "            \n",
    "            data.append([number,name,location,age,*numbers,motor,boat])\n",
    "        df_1 = pd.DataFrame(data,columns=['position','name','area','age','weight','st_time_ave','win',\\\n",
    "                'win_p_2','win_p','a_win','a_win_p_2','a_win_p','motor_p_2','motor_p','boat_p_2','boat_p','motor','boat'])\n",
    "        url = 'https://www.boatrace.jp/owpc/pc/race/beforeinfo?rno='+str(rno)+\\\n",
    "                '&jcd='+str(jcd).zfill(2)+'&hd='+str(predict_day)\n",
    "        time.sleep(1)\n",
    "        response = request.urlopen(url)\n",
    "        soup = BeautifulSoup(response,'html.parser')\n",
    "        response.close()\n",
    "        data_2 = []\n",
    "        for i in range(0,6):\n",
    "            table = soup.find_all('tbody',class_='is-fs12')[i].get_text()\n",
    "            table = table.replace('\\n\\n','').replace('\\u3000','').replace('\\n',',')\n",
    "            table_data = table.split(',')\n",
    "            position_name = table_data[0]\n",
    "            name = position_name[1:]\n",
    "            display = table_data[2]\n",
    "            table2 = soup.find_all('tbody',class_='is-p10-0')[0].get_text()\n",
    "            table2 = table2.replace('\\n\\n\\n','').replace('\\n\\n',',').replace('\\n',',')\n",
    "            table2_data = table2.split(',')\n",
    "            st_times = {'st_time_1':table2_data[2],'st_time_2':table2_data[4],'st_time_3':table2_data[6],\\\n",
    "                'st_time_4':table2_data[8],'st_time_5':table2_data[10],'st_time_6':table2_data[12]}\n",
    "            table3 = soup.find('div',class_='weather1_body').get_text()\n",
    "            table3 = table3.replace('\\n\\n\\n\\n','').replace('\\n',',')\n",
    "            table3_data = table3.split(',')\n",
    "            weather = table3_data[3]\n",
    "            wind_strong = table3_data[5].replace('m水温','')\n",
    "            wave = table3_data[8].replace('cm','')\n",
    "            data_2.append([name,display,st_times['st_time_{}'.format(i+1)],weather,wind_strong,wave])\n",
    "        df_2 = pd.DataFrame(data_2,columns=['name','display','st_time','weather','wind_strong','wave'])\n",
    "        # dfの前処理\n",
    "        df = pd.merge(df_1,df_2,on=['name'])\n",
    "        int_columns = ['age','weight','position','st_time_ave','win','win_p_2', 'win_p', 'a_win', 'a_win_p_2', 'a_win_p', 'motor_p_2',\\\n",
    "        'motor_p', 'boat_p_2', 'boat_p', 'motor', 'boat', 'display', 'st_time',\\\n",
    "        'wind_strong', 'wave']\n",
    "        for i in int_columns:\n",
    "            df[i] = df[i].astype(float)\n",
    "        std_columns = ['win','win_p_2', 'win_p', 'a_win', 'a_win_p_2', 'a_win_p', 'motor_p_2',\\\n",
    "            'motor_p', 'boat_p_2', 'boat_p']\n",
    "        for i in std_columns:\n",
    "            win_mean=df[i].mean()\n",
    "            win_std=df[i].std()\n",
    "            if win_std==0: #もしdf_stdが同じ値だとwin_stdが0になってしまう\n",
    "                df[i]=50.0\n",
    "            else:\n",
    "                df[i] = df_std.apply(lambda x : ((x - win_mean)*10/win_std+50))\n",
    "        \n",
    "        df['race_date'] = predict_day\n",
    "        \n",
    "            "
   ]
  },
  {
   "cell_type": "code",
   "execution_count": null,
   "metadata": {},
   "outputs": [],
   "source": []
  }
 ],
 "metadata": {
  "kernelspec": {
   "display_name": "base",
   "language": "python",
   "name": "python3"
  },
  "language_info": {
   "codemirror_mode": {
    "name": "ipython",
    "version": 3
   },
   "file_extension": ".py",
   "mimetype": "text/x-python",
   "name": "python",
   "nbconvert_exporter": "python",
   "pygments_lexer": "ipython3",
   "version": "3.7.12 | packaged by conda-forge | (default, Oct 26 2021, 06:08:53) \n[GCC 9.4.0]"
  },
  "orig_nbformat": 4,
  "vscode": {
   "interpreter": {
    "hash": "d4d1e4263499bec80672ea0156c357c1ee493ec2b1c70f0acce89fc37c4a6abe"
   }
  }
 },
 "nbformat": 4,
 "nbformat_minor": 2
}
