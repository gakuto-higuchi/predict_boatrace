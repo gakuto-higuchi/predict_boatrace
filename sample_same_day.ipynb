{
 "cells": [
  {
   "cell_type": "code",
   "execution_count": 2,
   "metadata": {},
   "outputs": [
    {
     "data": {
      "text/html": [
       "<style type='text/css'>\n",
       ".datatable table.frame { margin-bottom: 0; }\n",
       ".datatable table.frame thead { border-bottom: none; }\n",
       ".datatable table.frame tr.coltypes td {  color: #FFFFFF;  line-height: 6px;  padding: 0 0.5em;}\n",
       ".datatable .bool    { background: #DDDD99; }\n",
       ".datatable .object  { background: #565656; }\n",
       ".datatable .int     { background: #5D9E5D; }\n",
       ".datatable .float   { background: #4040CC; }\n",
       ".datatable .str     { background: #CC4040; }\n",
       ".datatable .time    { background: #40CC40; }\n",
       ".datatable .row_index {  background: var(--jp-border-color3);  border-right: 1px solid var(--jp-border-color0);  color: var(--jp-ui-font-color3);  font-size: 9px;}\n",
       ".datatable .frame tbody td { text-align: left; }\n",
       ".datatable .frame tr.coltypes .row_index {  background: var(--jp-border-color0);}\n",
       ".datatable th:nth-child(2) { padding-left: 12px; }\n",
       ".datatable .hellipsis {  color: var(--jp-cell-editor-border-color);}\n",
       ".datatable .vellipsis {  background: var(--jp-layout-color0);  color: var(--jp-cell-editor-border-color);}\n",
       ".datatable .na {  color: var(--jp-cell-editor-border-color);  font-size: 80%;}\n",
       ".datatable .sp {  opacity: 0.25;}\n",
       ".datatable .footer { font-size: 9px; }\n",
       ".datatable .frame_dimensions {  background: var(--jp-border-color3);  border-top: 1px solid var(--jp-border-color0);  color: var(--jp-ui-font-color3);  display: inline-block;  opacity: 0.6;  padding: 1px 10px 1px 5px;}\n",
       "</style>\n"
      ],
      "text/plain": [
       "<IPython.core.display.HTML object>"
      ]
     },
     "metadata": {},
     "output_type": "display_data"
    }
   ],
   "source": [
    "import numpy as np\n",
    "import pandas as pd\n",
    "import matplotlib.pyplot as pyplot\n",
    "import seaborn as sns; sns.set()\n",
    "import lightgbm as lgb\n",
    "from sklearn.metrics import accuracy_score\n",
    "from sklearn.metrics import log_loss\n",
    "from sklearn.metrics import roc_auc_score\n",
    "import re\n",
    "from bs4 import BeautifulSoup\n",
    "from urllib import request\n",
    "from urllib.request import urlopen\n",
    "import time\n",
    "import pickle\n",
    "from sklearn.preprocessing import StandardScaler"
   ]
  },
  {
   "cell_type": "code",
   "execution_count": 3,
   "metadata": {},
   "outputs": [],
   "source": [
    "predict_day = input('予測したい日をyyyymmdd型で入力:')\n",
    "jcd = input('予測したい場を2桁で入力:')\n",
    "rno = input('予測したいラウンドを入力:')"
   ]
  },
  {
   "cell_type": "code",
   "execution_count": 4,
   "metadata": {},
   "outputs": [],
   "source": [
    "url='https://www.boatrace.jp/owpc/pc/race/racelist?rno='+str(rno)+\\\n",
    "    '&jcd='+str(jcd).zfill(2)+'&hd='+str(predict_day)\n",
    "time.sleep(1)\n",
    "response=request.urlopen(url)\n",
    "soup=BeautifulSoup(response,'html.parser')\n",
    "response.close()\n",
    "data = []\n",
    "for i,j in zip(range(0,6),range(0,11,2)):\n",
    "    table_class = soup.find_all('div',class_='is-fs11')[j].get_text()\n",
    "    table_class = table_class.replace(' ','').replace('\\n',',').replace('/','')\n",
    "    table_class = table_class.split(',')\n",
    "    race_class = table_class[1]\n",
    "    table = soup.find_all('tbody',class_='is-fs12')[i].get_text()\n",
    "    # 番号を抽出する\n",
    "    number = re.search(r'\\d+', table).group()\n",
    "    # 名前を抽出する\n",
    "    name = re.search(r'\\n\\n(.+)\\n\\n(.+)\\n', table).group(1).strip().replace('\\u3000','')\n",
    "    # 場所を抽出する\n",
    "    location = re.search(r'\\n\\n(.+)\\n\\n(.+)\\n', table).group(2).strip().replace('/','')\n",
    "    # 年齢と体重を抽出する\n",
    "    age, weight = re.search(r'(\\d+歳)/(\\d+\\.\\d+kg)', table).groups()\n",
    "    # 数字のリストを抽出する\n",
    "    numbers = re.findall(r'(\\d+\\.\\d+)', table)\n",
    "    a_numbers = re.findall(r'(\\d+)',table)\n",
    "    location = location[:2]\n",
    "    age = age.replace('歳','')\n",
    "    weight = weight.replace('kg','')\n",
    "    motor = a_numbers[22]\n",
    "    boat= a_numbers[27]\n",
    "    \n",
    "    data.append([number,name,location,age,*numbers,motor,boat,race_class])\n",
    "df_1 = pd.DataFrame(data,columns=['position','name','area','age','weight','st_time_ave','win',\\\n",
    "        'win_p_2','win_p','a_win','a_win_p_2','a_win_p','motor_p_2','motor_p','boat_p_2','boat_p','motor','boat','class'])\n",
    "url = 'https://www.boatrace.jp/owpc/pc/race/beforeinfo?rno='+str(rno)+\\\n",
    "        '&jcd='+str(jcd).zfill(2)+'&hd='+str(predict_day)\n",
    "time.sleep(1)\n",
    "response = request.urlopen(url)\n",
    "soup = BeautifulSoup(response,'html.parser')\n",
    "response.close()\n",
    "data_2 = []\n",
    "for i in range(0,6):\n",
    "    table = soup.find_all('tbody',class_='is-fs12')[i].get_text()\n",
    "    table = table.replace('\\n\\n','').replace('\\u3000','').replace('\\n',',')\n",
    "    table_data = table.split(',')\n",
    "    position_name = table_data[0]\n",
    "    name = position_name[1:]\n",
    "    display = table_data[2]\n",
    "    table2 = soup.find_all('tbody',class_='is-fs12')[i].get_text()\n",
    "    table2 = table2.replace('\\u3000','').replace('\\n\\n','').replace('\\n',',').split(',')\n",
    "    st_times = table2[2]\n",
    "    table3 = soup.find('div',class_='weather1_body').get_text()\n",
    "    table3 = table3.replace('\\n\\n\\n\\n','').replace('\\n',',')\n",
    "    table3_data = table3.split(',')\n",
    "    weather = table3_data[3]\n",
    "    wind_strong = table3_data[5].replace('m水温','')\n",
    "    wave = table3_data[8].replace('cm','')\n",
    "    data_2.append([name,display,st_times,weather,wind_strong,wave])\n",
    "df_2 = pd.DataFrame(data_2,columns=['name','display','st_time','weather','wind_strong','wave'])\n",
    "# dfの前処理\n",
    "df = pd.merge(df_1,df_2,on=['name'])\n",
    "float_columns = ['age','weight','position','st_time_ave','win','win_p_2', 'win_p', 'a_win', 'a_win_p_2', 'a_win_p', 'motor_p_2',\\\n",
    "'motor_p', 'boat_p_2', 'boat_p', 'motor', 'boat', 'display', 'st_time',\\\n",
    "'wind_strong', 'wave']\n",
    "for i in float_columns:\n",
    "    df[i] = df[i].astype(float)\n",
    "std_columns = ['win','win_p_2', 'win_p', 'a_win', 'a_win_p_2', 'a_win_p', 'motor_p_2',\\\n",
    "    'motor_p', 'boat_p_2', 'boat_p']\n",
    "for i in std_columns:\n",
    "    win_mean=df[i].mean()\n",
    "    win_std=df[i].std()\n",
    "    if win_std==0: #もしdf_stdが同じ値だとwin_stdが0になってしまう\n",
    "        df[i]=50.0\n",
    "    else:\n",
    "        df[i] = df[i].apply(lambda x : ((x - win_mean)*10/win_std+50))\n",
    "# int型に変換\n",
    "int_columns = ['age','position']\n",
    "for i in int_columns:\n",
    "    df[i] = df[i].astype(int)\n",
    "def encode(df, col):\n",
    "    ###この方法だと場合によって最大値が変化するデータでは正確な値は出ない 例：月の日数が30日や31日の場合がある\n",
    "    df[col + '_cos'] = np.cos(2 * np.pi * df[col] / df[col].max())\n",
    "    df[col + '_sin'] = np.sin(2 * np.pi * df[col] / df[col].max())\n",
    "    return df\n",
    "df['race_date'] = predict_day\n",
    "df['race_date'] = pd.to_datetime(df['race_date'])\n",
    "df['day_of_year']= df['race_date'].apply(lambda x: x.timetuple().tm_yday)\n",
    "encode(df,'day_of_year')\n",
    "dict_stadium = {'01':'桐生','02':'戸田','03':'江戸川','04':'平和島',\\\n",
    "                            '05':'多摩川','06':'浜名湖','07':'蒲郡','08':'常滑',\\\n",
    "                            '09':'津','10':'三国','11':'びわこ','12':'住之江',\\\n",
    "                            '13':'尼崎','14':'鳴門','15':'丸亀','16':'児島',\\\n",
    "                            '17':'宮島','18':'徳山','19':'下関','20':'若松',\\\n",
    "                            '21':'芦屋','22':'福岡','23':'唐津','24':'大村'}\n",
    "df['place'] = dict_stadium[jcd]"
   ]
  },
  {
   "cell_type": "code",
   "execution_count": 5,
   "metadata": {},
   "outputs": [],
   "source": [
    "drop_columns = ['race_date']\n",
    "df.drop(drop_columns,axis=1,inplace=True)"
   ]
  },
  {
   "cell_type": "code",
   "execution_count": 6,
   "metadata": {},
   "outputs": [],
   "source": [
    "categorical_features = ['place','name','area','weather','class']\n",
    "for list in categorical_features:\n",
    "    df[list] = df[list].astype('category')"
   ]
  },
  {
   "cell_type": "code",
   "execution_count": 7,
   "metadata": {},
   "outputs": [],
   "source": [
    "df = pd.get_dummies(df,columns=categorical_features,drop_first=True)"
   ]
  },
  {
   "cell_type": "code",
   "execution_count": 8,
   "metadata": {},
   "outputs": [],
   "source": [
    "with open('model_gbm_2.pkl','rb') as model_file:\n",
    "    model = pickle.load(model_file)"
   ]
  },
  {
   "cell_type": "code",
   "execution_count": 9,
   "metadata": {},
   "outputs": [],
   "source": [
    "y_pred_prob = model.predict(df,predict_disable_shape_check=True)"
   ]
  },
  {
   "cell_type": "code",
   "execution_count": 10,
   "metadata": {},
   "outputs": [],
   "source": [
    "y_pred = np.argmax(y_pred_prob,axis=1)"
   ]
  },
  {
   "cell_type": "code",
   "execution_count": 11,
   "metadata": {},
   "outputs": [
    {
     "data": {
      "text/plain": [
       "array([0, 0, 0, 0, 0, 0])"
      ]
     },
     "execution_count": 11,
     "metadata": {},
     "output_type": "execute_result"
    }
   ],
   "source": [
    "y_pred"
   ]
  },
  {
   "cell_type": "code",
   "execution_count": 12,
   "metadata": {},
   "outputs": [],
   "source": [
    "df_pred_prob = pd.DataFrame({'四着以下':y_pred_prob[:,0], '一着':y_pred_prob[:,1], '二着':y_pred_prob[:,2],'三着':y_pred_prob[:,3]})"
   ]
  },
  {
   "cell_type": "code",
   "execution_count": 13,
   "metadata": {},
   "outputs": [
    {
     "data": {
      "text/html": [
       "<div>\n",
       "<style scoped>\n",
       "    .dataframe tbody tr th:only-of-type {\n",
       "        vertical-align: middle;\n",
       "    }\n",
       "\n",
       "    .dataframe tbody tr th {\n",
       "        vertical-align: top;\n",
       "    }\n",
       "\n",
       "    .dataframe thead th {\n",
       "        text-align: right;\n",
       "    }\n",
       "</style>\n",
       "<table border=\"1\" class=\"dataframe\">\n",
       "  <thead>\n",
       "    <tr style=\"text-align: right;\">\n",
       "      <th></th>\n",
       "      <th>四着以下</th>\n",
       "      <th>一着</th>\n",
       "      <th>二着</th>\n",
       "      <th>三着</th>\n",
       "    </tr>\n",
       "  </thead>\n",
       "  <tbody>\n",
       "    <tr>\n",
       "      <th>0</th>\n",
       "      <td>0.363764</td>\n",
       "      <td>0.107682</td>\n",
       "      <td>0.221561</td>\n",
       "      <td>0.306993</td>\n",
       "    </tr>\n",
       "    <tr>\n",
       "      <th>1</th>\n",
       "      <td>0.415177</td>\n",
       "      <td>0.107190</td>\n",
       "      <td>0.174840</td>\n",
       "      <td>0.302794</td>\n",
       "    </tr>\n",
       "    <tr>\n",
       "      <th>2</th>\n",
       "      <td>0.370561</td>\n",
       "      <td>0.095867</td>\n",
       "      <td>0.204433</td>\n",
       "      <td>0.329140</td>\n",
       "    </tr>\n",
       "    <tr>\n",
       "      <th>3</th>\n",
       "      <td>0.402818</td>\n",
       "      <td>0.079911</td>\n",
       "      <td>0.188467</td>\n",
       "      <td>0.328804</td>\n",
       "    </tr>\n",
       "    <tr>\n",
       "      <th>4</th>\n",
       "      <td>0.361892</td>\n",
       "      <td>0.112301</td>\n",
       "      <td>0.183265</td>\n",
       "      <td>0.342542</td>\n",
       "    </tr>\n",
       "    <tr>\n",
       "      <th>5</th>\n",
       "      <td>0.483881</td>\n",
       "      <td>0.075265</td>\n",
       "      <td>0.154719</td>\n",
       "      <td>0.286136</td>\n",
       "    </tr>\n",
       "  </tbody>\n",
       "</table>\n",
       "</div>"
      ],
      "text/plain": [
       "       四着以下        一着        二着        三着\n",
       "0  0.363764  0.107682  0.221561  0.306993\n",
       "1  0.415177  0.107190  0.174840  0.302794\n",
       "2  0.370561  0.095867  0.204433  0.329140\n",
       "3  0.402818  0.079911  0.188467  0.328804\n",
       "4  0.361892  0.112301  0.183265  0.342542\n",
       "5  0.483881  0.075265  0.154719  0.286136"
      ]
     },
     "execution_count": 13,
     "metadata": {},
     "output_type": "execute_result"
    }
   ],
   "source": [
    "df_pred_prob"
   ]
  },
  {
   "cell_type": "code",
   "execution_count": null,
   "metadata": {},
   "outputs": [],
   "source": []
  }
 ],
 "metadata": {
  "kernelspec": {
   "display_name": "base",
   "language": "python",
   "name": "python3"
  },
  "language_info": {
   "codemirror_mode": {
    "name": "ipython",
    "version": 3
   },
   "file_extension": ".py",
   "mimetype": "text/x-python",
   "name": "python",
   "nbconvert_exporter": "python",
   "pygments_lexer": "ipython3",
   "version": "3.7.12 | packaged by conda-forge | (default, Oct 26 2021, 06:08:53) \n[GCC 9.4.0]"
  },
  "orig_nbformat": 4,
  "vscode": {
   "interpreter": {
    "hash": "d4d1e4263499bec80672ea0156c357c1ee493ec2b1c70f0acce89fc37c4a6abe"
   }
  }
 },
 "nbformat": 4,
 "nbformat_minor": 2
}
