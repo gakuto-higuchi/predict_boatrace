{
 "cells": [
  {
   "attachments": {},
   "cell_type": "markdown",
   "metadata": {},
   "source": [
    "## モジュール読み込み"
   ]
  },
  {
   "cell_type": "code",
   "execution_count": 1,
   "metadata": {},
   "outputs": [],
   "source": [
    "import pandas as pd\n",
    "import numpy as np\n",
    "import re\n",
    "import datetime\n",
    "from tqdm import tqdm\n",
    "import seaborn as sns"
   ]
  },
  {
   "cell_type": "markdown",
   "metadata": {},
   "source": [
    "## 関数"
   ]
  },
  {
   "cell_type": "code",
   "execution_count": 2,
   "metadata": {},
   "outputs": [],
   "source": [
    "# re_k_results.pyのcsv\n",
    "df_k = pd.read_csv(\"/volume_dir/boatrace/results_csv/results.csv\")\n",
    "df_b = pd.read_csv(\"/volume_dir/boatrace/timetable_csv/timetable.csv\")\n"
   ]
  },
  {
   "cell_type": "code",
   "execution_count": 3,
   "metadata": {},
   "outputs": [],
   "source": [
    "def merge_preprocess(df_k,df_b):\n",
    "    drop_col_k = ['boat','st_time']\n",
    "    df_k.drop(drop_col_k,axis=1,inplace=True)\n",
    "    drop_col_b = ['date','place','round','position','name','motor']\n",
    "    df_b.drop(drop_col_b,axis=1,inplace=True)\n",
    "    # mergeする\n",
    "    df = pd.merge(df_k,df_b,on=['race_code','number'])\n",
    "    # 文字を削除\n",
    "    df = df[~df['in'].astype(str).str.contains('\\D')]\n",
    "    df = df[~df['order'].astype(str).str.contains('\\D')]\n",
    "    list_std = ['win_p','win_p_2','a_win_p','a_win_p_2','motor_p_2','boat_p_2']\n",
    "    for list in list_std:    \n",
    "        df_std = df[list].astype(float)\n",
    "        win_mean=df_std.mean()\n",
    "        win_std=df_std.std()\n",
    "        if win_std==0: #もしdf_stdが同じ値だとwin_stdが0になってしまう\n",
    "            df[list]=50.0\n",
    "        else:\n",
    "            df[list] = df_std.apply(lambda x : ((x - win_mean)*10/win_std+50))\n",
    "    df['date']=df['date'].str.replace(r'[第日]','')\n",
    "        #roundのRを削除\n",
    "    df['round']=df['round'].str.replace(r'[R]','')\n",
    "    # datetimeに変換\n",
    "    df['race_date'] = pd.to_datetime(df['race_date'])\n",
    "    # 日だけ抽出\n",
    "    df['day'] = df['race_date'].dt.day\n",
    "    # int型に変換\n",
    "    df['order'] = df['order'].astype('int')\n",
    "    df['date'] = df['date'].astype('int')\n",
    "    df['round'] = df['round'].astype('int')\n",
    "    df['display'] = df['display'].astype('float')\n",
    "    df['in'] = df['in'].astype('int')\n",
    "    # race_timeのfloat型に変換\n",
    "    df['race_time'] = df['race_time'].replace('..','2.0.0').replace('.','2.0.0')\n",
    "    df['race_time'] = df['race_time'].map(lambda x: float(x[0])*60 + float(x[2:6]))\n",
    "    # どこかがnanのものを削除\n",
    "    df.dropna(how='any',inplace=True)\n",
    "    #　年月日を365日に変換\n",
    "    df['day_of_year']= df['race_date'].apply(lambda x: x.timetuple().tm_yday)\n",
    "    # 時系列データとして扱いやすいようにsincosで加工\n",
    "    encode(df,'day_of_year')\n",
    "    # 途中からtxtの表記が'琵琶湖'から'びわこ'になっていたため、'びわこ'で統一\n",
    "    df['place'] = df['place'].map(lambda x: \"びわこ\" if x == \"琵琶湖\" else x)\n",
    "    # indexをrace_dateに変換\n",
    "    df = df.rename(index=df['race_date'])\n",
    "    return df\n",
    "\n",
    "def encode(df, col):\n",
    "    ###この方法だと場合によって最大値が変化するデータでは正確な値は出ない 例：月の日数が30日や31日の場合がある\n",
    "    df[col + '_cos'] = np.cos(2 * np.pi * df[col] / df[col].max())\n",
    "    df[col + '_sin'] = np.sin(2 * np.pi * df[col] / df[col].max())\n",
    "    return df"
   ]
  },
  {
   "attachments": {},
   "cell_type": "markdown",
   "metadata": {},
   "source": [
    "## 実行"
   ]
  },
  {
   "cell_type": "code",
   "execution_count": null,
   "metadata": {},
   "outputs": [],
   "source": [
    "df = merge_preprocess(df_k,df_b)"
   ]
  },
  {
   "cell_type": "code",
   "execution_count": null,
   "metadata": {},
   "outputs": [],
   "source": [
    "#df.to_csv('merged_df.csv',encoding='utf-8',index=False)"
   ]
  },
  {
   "attachments": {},
   "cell_type": "markdown",
   "metadata": {},
   "source": [
    "## 検証"
   ]
  },
  {
   "attachments": {},
   "cell_type": "markdown",
   "metadata": {},
   "source": []
  },
  {
   "cell_type": "code",
   "execution_count": 13,
   "metadata": {},
   "outputs": [],
   "source": [
    "df = pd.read_csv('/volume_dir/boatrace/merged_df.csv')"
   ]
  },
  {
   "cell_type": "code",
   "execution_count": 28,
   "metadata": {},
   "outputs": [
    {
     "data": {
      "text/plain": [
       "Index(['race_code', 'date', 'race_date', 'place', 'round', 'order', 'position',\n",
       "       'number', 'name', 'motor', 'display', 'in', 'race_time', 'type',\n",
       "       'weather', 'wind', 'wind_strong', 'wave', 'title', 'race_name', 'age',\n",
       "       'area', 'weight', 'class', 'win_p', 'win_p_2', 'a_win_p', 'a_win_p_2',\n",
       "       'motor_p_2', 'boat', 'boat_p_2', 'day', 'day_of_year',\n",
       "       'day_of_year_cos', 'day_of_year_sin'],\n",
       "      dtype='object')"
      ]
     },
     "execution_count": 28,
     "metadata": {},
     "output_type": "execute_result"
    }
   ],
   "source": [
    "df.columns"
   ]
  },
  {
   "cell_type": "code",
   "execution_count": 29,
   "metadata": {},
   "outputs": [
    {
     "name": "stderr",
     "output_type": "stream",
     "text": [
      "100%|██████████| 1946/1946 [02:23<00:00, 13.51it/s]\n"
     ]
    }
   ],
   "source": [
    "name_list = df['name'].unique().tolist()\n",
    "\n",
    "# tqdmを使って進捗を表示する\n",
    "for name in tqdm(name_list):\n",
    "    # レース参加者の名前が一致する行を抽出する\n",
    "    mask = df['name'] == name\n",
    "    \n",
    "    # 平均レースタイムを計算する\n",
    "    mean_time = df.loc[mask, 'race_time'].mean()\n",
    "    \n",
    "    # 'race_time_ave'列に平均値を代入する\n",
    "    df.loc[mask, 'race_time_ave'] = mean_time"
   ]
  },
  {
   "cell_type": "code",
   "execution_count": 30,
   "metadata": {},
   "outputs": [
    {
     "data": {
      "text/plain": [
       "113.086494    2162\n",
       "113.082274    2155\n",
       "112.265259    2107\n",
       "112.479113    2097\n",
       "112.989843    2097\n",
       "              ... \n",
       "114.111765      17\n",
       "117.943750      16\n",
       "116.250000      14\n",
       "118.750000       6\n",
       "120.000000       1\n",
       "Name: race_time_ave, Length: 1946, dtype: int64"
      ]
     },
     "execution_count": 30,
     "metadata": {},
     "output_type": "execute_result"
    }
   ],
   "source": [
    "df['race_time_ave'].value_counts()"
   ]
  },
  {
   "cell_type": "code",
   "execution_count": 31,
   "metadata": {},
   "outputs": [],
   "source": [
    "df.to_csv('merged_df1.csv',encoding='utf-8',index=False)"
   ]
  },
  {
   "attachments": {},
   "cell_type": "markdown",
   "metadata": {},
   "source": [
    "### race_timeの平均の取り方\n",
    "+ 直近5レースのrace_timeの平均をとった"
   ]
  },
  {
   "cell_type": "code",
   "execution_count": null,
   "metadata": {},
   "outputs": [],
   "source": [
    "df.set_index('name',inplace=True)\n",
    "\n",
    "df.set_index('name',inplace=True)\n",
    "def average(name_list,date,n_samples='all'):\n",
    "    target_id = df.loc[name_list]\n",
    "    \n",
    "    if n_samples == 'all':\n",
    "        filtered_df = df[df['race_date']<date]\n",
    "    else:\n",
    "        filtered_df = df[df['race_date']<date].\\\n",
    "        sort_values('race_date',ascending=False).groupby(level=0).head(n_samples)\n",
    "    return filtered_df.groupby(level=0)['race_time'].mean()\n",
    "\n",
    "def merge(df,date,n_samples='all'):\n",
    "    df = df[df['race_date']==date]\n",
    "    df.reset_index(inplace=True)\n",
    "    name_list = df['name']\n",
    "    merged_df = df.merge(average(name_list,date,n_samples),left_on='name',right_index=True)\n",
    "    return merged_df\n",
    "\n",
    "def merge_all(df,n_samples='all'):\n",
    "    date_list = df['race_date'].unique()\n",
    "    merged_df = pd.concat([merge(df,date,n_samples) for date in (date_list)])\n",
    "    return merged_df\n",
    "\n",
    "df_a = merge_all(df,5)\n",
    "df_a.rename(columns={'race_time_x':'race_time','race_time_y':'race_time_ave'},inplace=True)"
   ]
  },
  {
   "cell_type": "code",
   "execution_count": null,
   "metadata": {},
   "outputs": [],
   "source": [
    "df_a.to_csv('merged_re_df.csv',encoding='utf-8',index=False)"
   ]
  }
 ],
 "metadata": {
  "kernelspec": {
   "display_name": "base",
   "language": "python",
   "name": "python3"
  },
  "language_info": {
   "codemirror_mode": {
    "name": "ipython",
    "version": 3
   },
   "file_extension": ".py",
   "mimetype": "text/x-python",
   "name": "python",
   "nbconvert_exporter": "python",
   "pygments_lexer": "ipython3",
   "version": "3.7.12 | packaged by conda-forge | (default, Oct 26 2021, 06:08:53) \n[GCC 9.4.0]"
  },
  "orig_nbformat": 4,
  "vscode": {
   "interpreter": {
    "hash": "d4d1e4263499bec80672ea0156c357c1ee493ec2b1c70f0acce89fc37c4a6abe"
   }
  }
 },
 "nbformat": 4,
 "nbformat_minor": 2
}
