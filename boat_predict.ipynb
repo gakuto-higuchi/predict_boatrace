{
 "cells": [
  {
   "attachments": {},
   "cell_type": "markdown",
   "metadata": {},
   "source": [
    "## モジュールimport"
   ]
  },
  {
   "cell_type": "code",
   "execution_count": 2,
   "metadata": {},
   "outputs": [
    {
     "name": "stdout",
     "output_type": "stream",
     "text": [
      "peak memory: 216.07 MiB, increment: 2.58 MiB\n"
     ]
    }
   ],
   "source": [
    "%load_ext memory_profiler\n",
    "%memit"
   ]
  },
  {
   "cell_type": "code",
   "execution_count": 3,
   "metadata": {},
   "outputs": [
    {
     "data": {
      "text/html": [
       "<style type='text/css'>\n",
       ".datatable table.frame { margin-bottom: 0; }\n",
       ".datatable table.frame thead { border-bottom: none; }\n",
       ".datatable table.frame tr.coltypes td {  color: #FFFFFF;  line-height: 6px;  padding: 0 0.5em;}\n",
       ".datatable .bool    { background: #DDDD99; }\n",
       ".datatable .object  { background: #565656; }\n",
       ".datatable .int     { background: #5D9E5D; }\n",
       ".datatable .float   { background: #4040CC; }\n",
       ".datatable .str     { background: #CC4040; }\n",
       ".datatable .time    { background: #40CC40; }\n",
       ".datatable .row_index {  background: var(--jp-border-color3);  border-right: 1px solid var(--jp-border-color0);  color: var(--jp-ui-font-color3);  font-size: 9px;}\n",
       ".datatable .frame tbody td { text-align: left; }\n",
       ".datatable .frame tr.coltypes .row_index {  background: var(--jp-border-color0);}\n",
       ".datatable th:nth-child(2) { padding-left: 12px; }\n",
       ".datatable .hellipsis {  color: var(--jp-cell-editor-border-color);}\n",
       ".datatable .vellipsis {  background: var(--jp-layout-color0);  color: var(--jp-cell-editor-border-color);}\n",
       ".datatable .na {  color: var(--jp-cell-editor-border-color);  font-size: 80%;}\n",
       ".datatable .sp {  opacity: 0.25;}\n",
       ".datatable .footer { font-size: 9px; }\n",
       ".datatable .frame_dimensions {  background: var(--jp-border-color3);  border-top: 1px solid var(--jp-border-color0);  color: var(--jp-ui-font-color3);  display: inline-block;  opacity: 0.6;  padding: 1px 10px 1px 5px;}\n",
       "</style>\n"
      ],
      "text/plain": [
       "<IPython.core.display.HTML object>"
      ]
     },
     "metadata": {},
     "output_type": "display_data"
    }
   ],
   "source": [
    "\n",
    "import pandas as pd\n",
    "import numpy as np\n",
    "from tqdm import tqdm\n",
    "from imblearn.under_sampling import RandomUnderSampler\n",
    "from sklearn.multioutput import MultiOutputRegressor\n",
    "from sklearn.model_selection import train_test_split\n",
    "from sklearn.model_selection import KFold\n",
    "import optuna.integration.lightgbm as lgb\n",
    "from sklearn.metrics import accuracy_score\n",
    "import pickle\n",
    "import gc"
   ]
  },
  {
   "attachments": {},
   "cell_type": "markdown",
   "metadata": {},
   "source": [
    "## データ読み込み"
   ]
  },
  {
   "cell_type": "code",
   "execution_count": 4,
   "metadata": {},
   "outputs": [],
   "source": [
    "df = pd.read_csv('/volume_dir/boatrace/merged_df1.csv')\n",
    "#odds = pd.read_csv('/volume_dir/boatrace/odds_csv/odds.csv')\n"
   ]
  },
  {
   "cell_type": "code",
   "execution_count": 5,
   "metadata": {},
   "outputs": [
    {
     "name": "stdout",
     "output_type": "stream",
     "text": [
      "peak memory: 1603.33 MiB, increment: 0.01 MiB\n"
     ]
    }
   ],
   "source": [
    "%memit"
   ]
  },
  {
   "attachments": {},
   "cell_type": "markdown",
   "metadata": {},
   "source": [
    "## 関数"
   ]
  },
  {
   "cell_type": "code",
   "execution_count": 6,
   "metadata": {},
   "outputs": [],
   "source": [
    "# 4位以下の着順を4で統一\n",
    "def order_4(df):\n",
    "    clip_order = lambda x: 0 if x==0 else (x if x<4 else 0)\n",
    "    df['order'] = df['order'].map(clip_order)\n",
    "    return df\n",
    "# 三着以内かそれ以外かで統一\n",
    "def order_1(df):\n",
    "    clip_order = lambda x: 0 if x==0 else (1 if x<4 else 0)\n",
    "    df['order'] = df['order'].map(clip_order)\n",
    "    return df\n",
    "# 時系列で整列して、不均衡な目的変数を均衡にする\n",
    "# train 0.7 val 0.15 test 0.15\n",
    "def train_test_split_data(df,test_size):\n",
    "    sorted_id_list = df.sort_values('race_date').index.unique()\n",
    "    train_id_list = sorted_id_list[:round(len(sorted_id_list)*(1-test_size))]\n",
    "    middle_list = round((len(sorted_id_list)-(len(sorted_id_list)*(1-test_size)))/2)\n",
    "    vaild_id_list = sorted_id_list[round(len(sorted_id_list)*(1-test_size)):round((len(sorted_id_list)*(1-test_size)))+middle_list]\n",
    "    test_id_list = sorted_id_list[round((len(sorted_id_list)*(1-test_size)))+middle_list:]\n",
    "    train = df.loc[train_id_list]\n",
    "    test = df.loc[test_id_list]\n",
    "    vaild = df.loc[vaild_id_list]\n",
    "    X_train = train.drop(['order','race_date'], axis=1)\n",
    "    y_train = train['order']\n",
    "    X_val = vaild.drop(['order','race_date'], axis=1)\n",
    "    y_val = vaild['order']\n",
    "    X_test = test.drop(['order','race_date'], axis=1)\n",
    "    y_test = test['order']\n",
    "    X_train_rus, y_train_rus = rus(X_train,y_train)\n",
    "    X_val_rus, y_val_rus = rus(X_val,y_val)\n",
    "    print('X_train.shape:{}'.format(X_train.shape))\n",
    "    print('y_train.shape:{}'.format(y_train.shape))\n",
    "    print('X_train_rus.shape:{}'.format(X_train_rus.shape))\n",
    "    print('y_train_rus.shape:{}'.format(y_train_rus.shape))\n",
    "    print('X_val_rus.shape:{}'.format(X_val_rus.shape))\n",
    "    print('y_val_rus.shape:{}'.format(y_val_rus.shape))\n",
    "    print('X_test.shape:{}'.format(X_test.shape))\n",
    "    print('y_test.shape:{}'.format(y_test.shape))\n",
    "    return X_train_rus, y_train_rus,X_val_rus,y_val_rus,X_test, y_test\n",
    "\n",
    "def rus(X_train,y_train):\n",
    "    order_1 = y_train.value_counts()[1]\n",
    "    order_2 = y_train.value_counts()[2]\n",
    "    order_3 = y_train.value_counts()[3]\n",
    "    strategy = {1:order_1,2:order_2,3:order_3,0:order_1}\n",
    "    rus = RandomUnderSampler(sampling_strategy = strategy,random_state=42)\n",
    "    \n",
    "    X_train_rus, y_train_rus = rus.fit_resample(X_train,y_train)\n",
    "    \n",
    "    return X_train_rus, y_train_rus\n",
    "\n",
    "def rus_b(X_train,y_train):\n",
    "    order_1 = y_train.value_counts()[0]\n",
    "    strategy = {0:order_1,1:order_1}\n",
    "    rus = RandomUnderSampler(sampling_strategy = strategy,random_state=42)\n",
    "    \n",
    "    X_train_rus, y_train_rus = rus.fit_resample(X_train,y_train)\n",
    "    \n",
    "    return X_train_rus, y_train_rus\n",
    "\n",
    "def train_test_split_data_b(df,test_size):\n",
    "    sorted_id_list = df.sort_values('race_date').index.unique()\n",
    "    train_id_list = sorted_id_list[:round(len(sorted_id_list)*(1-test_size))]\n",
    "    middle_list = round((len(sorted_id_list)-(len(sorted_id_list)*(1-test_size)))/2)\n",
    "    vaild_id_list = sorted_id_list[round(len(sorted_id_list)*(1-test_size)):round((len(sorted_id_list)*(1-test_size)))+middle_list]\n",
    "    test_id_list = sorted_id_list[round((len(sorted_id_list)*(1-test_size)))+middle_list:]\n",
    "    train = df.loc[train_id_list]\n",
    "    test = df.loc[test_id_list]\n",
    "    vaild = df.loc[vaild_id_list]\n",
    "    X_train = train.drop(['order','race_date'], axis=1)\n",
    "    y_train = train['order']\n",
    "    X_val = vaild.drop(['order','race_date'], axis=1)\n",
    "    y_val = vaild['order']\n",
    "    X_test = test.drop(['order','race_date'], axis=1)\n",
    "    y_test = test['order']\n",
    "    X_train_rus, y_train_rus = rus_b(X_train,y_train)\n",
    "    X_val_rus, y_val_rus = rus_b(X_val,y_val)\n",
    "    print('X_train.shape:{}'.format(X_train.shape))\n",
    "    print('y_train.shape:{}'.format(y_train.shape))\n",
    "    print('X_train_rus.shape:{}'.format(X_train_rus.shape))\n",
    "    print('y_train_rus.shape:{}'.format(y_train_rus.shape))\n",
    "    print('X_val_rus.shape:{}'.format(X_val_rus.shape))\n",
    "    print('y_val_rus.shape:{}'.format(y_val_rus.shape))\n",
    "    print('X_test.shape:{}'.format(X_test.shape))\n",
    "    print('y_test.shape:{}'.format(y_test.shape))\n",
    "    return X_train_rus, y_train_rus,X_val_rus,y_val_rus,X_test, y_test\n",
    "# oddsの表記をint型に変換\n",
    "def odds_astype(odds):\n",
    "    odds = odds = odds.dropna(how='any')\n",
    "    for index in ['p_3_m','p_3_d_m','p_2_m','p_2_d_m']:\n",
    "        odds[index] = odds[index].astype('int')\n",
    "    return odds\n",
    "\n"
   ]
  },
  {
   "attachments": {},
   "cell_type": "markdown",
   "metadata": {},
   "source": [
    "## 実行"
   ]
  },
  {
   "cell_type": "code",
   "execution_count": 7,
   "metadata": {},
   "outputs": [],
   "source": [
    "drop_columns = ['race_code','number','in','title', 'race_name','race_time']"
   ]
  },
  {
   "cell_type": "code",
   "execution_count": 8,
   "metadata": {},
   "outputs": [],
   "source": [
    "df.drop(drop_columns,axis=1,inplace=True)"
   ]
  },
  {
   "cell_type": "code",
   "execution_count": 9,
   "metadata": {},
   "outputs": [],
   "source": [
    "df['race_date'] = pd.to_datetime(df['race_date'])"
   ]
  },
  {
   "cell_type": "code",
   "execution_count": 10,
   "metadata": {},
   "outputs": [],
   "source": [
    "categorical_features = ['place','name','type', 'weather', 'wind', 'area', 'class']"
   ]
  },
  {
   "cell_type": "code",
   "execution_count": 11,
   "metadata": {},
   "outputs": [],
   "source": [
    "for list in categorical_features:\n",
    "    df[list] = df[list].astype('category')"
   ]
  },
  {
   "cell_type": "code",
   "execution_count": 12,
   "metadata": {},
   "outputs": [],
   "source": [
    "df = pd.get_dummies(df, columns=categorical_features, drop_first=True)"
   ]
  },
  {
   "cell_type": "code",
   "execution_count": 13,
   "metadata": {},
   "outputs": [
    {
     "name": "stdout",
     "output_type": "stream",
     "text": [
      "peak memory: 5440.40 MiB, increment: 0.00 MiB\n"
     ]
    }
   ],
   "source": [
    "%memit"
   ]
  },
  {
   "cell_type": "code",
   "execution_count": 14,
   "metadata": {},
   "outputs": [],
   "source": [
    "df = order_1(df)"
   ]
  },
  {
   "cell_type": "code",
   "execution_count": 15,
   "metadata": {},
   "outputs": [],
   "source": [
    "df_x = df.drop(['order','race_date'],axis=1)\n",
    "df_y = df['order']"
   ]
  },
  {
   "cell_type": "code",
   "execution_count": 16,
   "metadata": {},
   "outputs": [],
   "source": [
    "X_train,X_test,y_train,y_test = train_test_split(df_x,df_y,test_size=0.2,random_state=0)"
   ]
  },
  {
   "cell_type": "code",
   "execution_count": 13,
   "metadata": {},
   "outputs": [
    {
     "ename": "",
     "evalue": "",
     "output_type": "error",
     "traceback": [
      "\u001b[1;31mCanceled future for execute_request message before replies were done"
     ]
    },
    {
     "ename": "",
     "evalue": "",
     "output_type": "error",
     "traceback": [
      "\u001b[1;31m現在のセルまたは前のセルでコードを実行中に、カーネルがクラッシュしました。エラーの原因を特定するには、セル内のコードを確認してください。詳細については、<a href='https://aka.ms/vscodeJupyterKernelCrash'>こちら</a> をクリックしてください。さらなる詳細については、Jupyter [log] (command:jupyter.viewOutput) を参照してください。"
     ]
    }
   ],
   "source": [
    "X_train_rus, y_train_rus,X_val_rus,y_val_rus,X_test, y_test  = train_test_split_data_b(df,0.3)"
   ]
  },
  {
   "cell_type": "code",
   "execution_count": 17,
   "metadata": {},
   "outputs": [
    {
     "name": "stdout",
     "output_type": "stream",
     "text": [
      "peak memory: 14975.13 MiB, increment: 0.00 MiB\n"
     ]
    }
   ],
   "source": [
    "%memit"
   ]
  },
  {
   "cell_type": "code",
   "execution_count": 18,
   "metadata": {},
   "outputs": [
    {
     "data": {
      "text/plain": [
       "21"
      ]
     },
     "execution_count": 18,
     "metadata": {},
     "output_type": "execute_result"
    }
   ],
   "source": [
    "del df\n",
    "gc.collect()"
   ]
  },
  {
   "attachments": {},
   "cell_type": "markdown",
   "metadata": {},
   "source": [
    "## モデル"
   ]
  },
  {
   "cell_type": "code",
   "execution_count": 24,
   "metadata": {},
   "outputs": [
    {
     "name": "stdout",
     "output_type": "stream",
     "text": [
      "[LightGBM] [Warning] Auto-choosing col-wise multi-threading, the overhead of testing was 0.170587 seconds.\n",
      "You can set `force_col_wise=true` to remove the overhead.\n",
      "[LightGBM] [Info] Total Bins 6722\n",
      "[LightGBM] [Info] Number of data points in the train set: 1078543, number of used features: 1881\n",
      "[LightGBM] [Info] Start training from score -1.374591\n",
      "[LightGBM] [Info] Start training from score -1.374591\n",
      "[LightGBM] [Info] Start training from score -1.395182\n",
      "[LightGBM] [Info] Start training from score -1.401100\n",
      "[1]\tvalid_0's multi_logloss: 1.32042\n",
      "[2]\tvalid_0's multi_logloss: 1.27255\n",
      "[3]\tvalid_0's multi_logloss: 1.23405\n",
      "[4]\tvalid_0's multi_logloss: 1.20248\n",
      "[5]\tvalid_0's multi_logloss: 1.176\n",
      "[6]\tvalid_0's multi_logloss: 1.15388\n",
      "[7]\tvalid_0's multi_logloss: 1.13526\n",
      "[8]\tvalid_0's multi_logloss: 1.11981\n",
      "[9]\tvalid_0's multi_logloss: 1.10622\n",
      "[10]\tvalid_0's multi_logloss: 1.09439\n",
      "[11]\tvalid_0's multi_logloss: 1.08439\n",
      "[12]\tvalid_0's multi_logloss: 1.07555\n",
      "[13]\tvalid_0's multi_logloss: 1.06808\n",
      "[14]\tvalid_0's multi_logloss: 1.06099\n",
      "[15]\tvalid_0's multi_logloss: 1.05523\n",
      "[16]\tvalid_0's multi_logloss: 1.05032\n",
      "[17]\tvalid_0's multi_logloss: 1.04613\n",
      "[18]\tvalid_0's multi_logloss: 1.04252\n",
      "[19]\tvalid_0's multi_logloss: 1.0389\n",
      "[20]\tvalid_0's multi_logloss: 1.03544\n",
      "[21]\tvalid_0's multi_logloss: 1.03268\n",
      "[22]\tvalid_0's multi_logloss: 1.03031\n",
      "[23]\tvalid_0's multi_logloss: 1.02801\n",
      "[24]\tvalid_0's multi_logloss: 1.02608\n",
      "[25]\tvalid_0's multi_logloss: 1.02443\n",
      "[26]\tvalid_0's multi_logloss: 1.02283\n",
      "[27]\tvalid_0's multi_logloss: 1.02134\n",
      "[28]\tvalid_0's multi_logloss: 1.02002\n",
      "[29]\tvalid_0's multi_logloss: 1.01888\n",
      "[30]\tvalid_0's multi_logloss: 1.01766\n",
      "[31]\tvalid_0's multi_logloss: 1.01651\n",
      "[32]\tvalid_0's multi_logloss: 1.01566\n",
      "[33]\tvalid_0's multi_logloss: 1.01478\n",
      "[34]\tvalid_0's multi_logloss: 1.01413\n",
      "[35]\tvalid_0's multi_logloss: 1.0133\n",
      "[36]\tvalid_0's multi_logloss: 1.01263\n",
      "[37]\tvalid_0's multi_logloss: 1.01205\n",
      "[38]\tvalid_0's multi_logloss: 1.01159\n",
      "[39]\tvalid_0's multi_logloss: 1.01105\n",
      "[40]\tvalid_0's multi_logloss: 1.01057\n",
      "[41]\tvalid_0's multi_logloss: 1.01006\n",
      "[42]\tvalid_0's multi_logloss: 1.00972\n",
      "[43]\tvalid_0's multi_logloss: 1.00929\n",
      "[44]\tvalid_0's multi_logloss: 1.00904\n",
      "[45]\tvalid_0's multi_logloss: 1.00872\n",
      "[46]\tvalid_0's multi_logloss: 1.00846\n",
      "[47]\tvalid_0's multi_logloss: 1.00818\n",
      "[48]\tvalid_0's multi_logloss: 1.00789\n",
      "[49]\tvalid_0's multi_logloss: 1.00759\n",
      "[50]\tvalid_0's multi_logloss: 1.00736\n",
      "[51]\tvalid_0's multi_logloss: 1.00714\n",
      "[52]\tvalid_0's multi_logloss: 1.00689\n",
      "[53]\tvalid_0's multi_logloss: 1.00674\n",
      "[54]\tvalid_0's multi_logloss: 1.00644\n",
      "[55]\tvalid_0's multi_logloss: 1.00623\n",
      "[56]\tvalid_0's multi_logloss: 1.0061\n",
      "[57]\tvalid_0's multi_logloss: 1.00588\n",
      "[58]\tvalid_0's multi_logloss: 1.00571\n",
      "[59]\tvalid_0's multi_logloss: 1.00557\n",
      "[60]\tvalid_0's multi_logloss: 1.00543\n",
      "[61]\tvalid_0's multi_logloss: 1.0053\n",
      "[62]\tvalid_0's multi_logloss: 1.00519\n",
      "[63]\tvalid_0's multi_logloss: 1.00509\n",
      "[64]\tvalid_0's multi_logloss: 1.00495\n",
      "[65]\tvalid_0's multi_logloss: 1.00467\n",
      "[66]\tvalid_0's multi_logloss: 1.00457\n",
      "[67]\tvalid_0's multi_logloss: 1.00451\n",
      "[68]\tvalid_0's multi_logloss: 1.0044\n",
      "[69]\tvalid_0's multi_logloss: 1.0043\n",
      "[70]\tvalid_0's multi_logloss: 1.00406\n",
      "[71]\tvalid_0's multi_logloss: 1.00395\n",
      "[72]\tvalid_0's multi_logloss: 1.00385\n",
      "[73]\tvalid_0's multi_logloss: 1.00374\n",
      "[74]\tvalid_0's multi_logloss: 1.00362\n",
      "[75]\tvalid_0's multi_logloss: 1.0036\n",
      "[76]\tvalid_0's multi_logloss: 1.00346\n",
      "[77]\tvalid_0's multi_logloss: 1.00339\n",
      "[78]\tvalid_0's multi_logloss: 1.00333\n",
      "[79]\tvalid_0's multi_logloss: 1.00323\n",
      "[80]\tvalid_0's multi_logloss: 1.00321\n",
      "[81]\tvalid_0's multi_logloss: 1.00318\n",
      "[82]\tvalid_0's multi_logloss: 1.00312\n",
      "[83]\tvalid_0's multi_logloss: 1.00308\n",
      "[84]\tvalid_0's multi_logloss: 1.00292\n",
      "[85]\tvalid_0's multi_logloss: 1.00289\n",
      "[86]\tvalid_0's multi_logloss: 1.00286\n",
      "[87]\tvalid_0's multi_logloss: 1.00285\n",
      "[88]\tvalid_0's multi_logloss: 1.00277\n",
      "[89]\tvalid_0's multi_logloss: 1.00274\n",
      "[90]\tvalid_0's multi_logloss: 1.00272\n",
      "[91]\tvalid_0's multi_logloss: 1.00269\n",
      "[92]\tvalid_0's multi_logloss: 1.00264\n",
      "[93]\tvalid_0's multi_logloss: 1.0026\n",
      "[94]\tvalid_0's multi_logloss: 1.00256\n",
      "[95]\tvalid_0's multi_logloss: 1.00241\n",
      "[96]\tvalid_0's multi_logloss: 1.00242\n",
      "[97]\tvalid_0's multi_logloss: 1.00239\n",
      "[98]\tvalid_0's multi_logloss: 1.00239\n",
      "[99]\tvalid_0's multi_logloss: 1.00238\n",
      "[100]\tvalid_0's multi_logloss: 1.00237\n"
     ]
    }
   ],
   "source": [
    "# 学習に使用するデータを設定\n",
    "lgb_train = lgb.Dataset(X_train_rus, y_train_rus)\n",
    "lgb_eval = lgb.Dataset(X_test, y_test, reference=lgb_train)\n",
    "\n",
    "# LightGBM parameters\n",
    "params = {\n",
    "        'task': 'train',\n",
    "        'boosting_type': 'gbdt',\n",
    "        'objective': 'multiclass', # 目的 : 多クラス分類 \n",
    "        'num_class': 4, # クラス数 : 3\n",
    "        'metric': {'multi_logloss'}, # 評価指標 : 誤り率(= 1-正答率) \n",
    "        # 他には'multi_logloss'など\n",
    "}\n",
    "\n",
    "# モデルの学習\n",
    "model = lgb.train(params,\n",
    "train_set=lgb_train, # トレーニングデータの指定\n",
    "valid_sets=lgb_eval, # 検証データの指定\n",
    ")\n",
    "\n",
    "# テストデータの予測 ((各クラスの予測確率 [クラス0の予測確率,クラス1の予測確率,クラス2の予測確率] を返す))\n",
    "y_pred_prob = model.predict(X_test)\n",
    "# テストデータの予測 (予測クラス(0 or 1 or 2)を返す)\n",
    "y_pred = np.argmax(y_pred_prob, axis=1) # 一番大きい予測確率のクラスを予測クラスに"
   ]
  },
  {
   "cell_type": "code",
   "execution_count": 28,
   "metadata": {},
   "outputs": [],
   "source": [
    "with open('model_1.pkl','wb') as model_file:\n",
    "    pickle.dump(model,model_file)"
   ]
  },
  {
   "cell_type": "code",
   "execution_count": 18,
   "metadata": {},
   "outputs": [
    {
     "data": {
      "text/html": [
       "<div>\n",
       "<style scoped>\n",
       "    .dataframe tbody tr th:only-of-type {\n",
       "        vertical-align: middle;\n",
       "    }\n",
       "\n",
       "    .dataframe tbody tr th {\n",
       "        vertical-align: top;\n",
       "    }\n",
       "\n",
       "    .dataframe thead th {\n",
       "        text-align: right;\n",
       "    }\n",
       "</style>\n",
       "<table border=\"1\" class=\"dataframe\">\n",
       "  <thead>\n",
       "    <tr style=\"text-align: right;\">\n",
       "      <th></th>\n",
       "      <th>target</th>\n",
       "      <th>target_pred</th>\n",
       "    </tr>\n",
       "  </thead>\n",
       "  <tbody>\n",
       "    <tr>\n",
       "      <th>1318162</th>\n",
       "      <td>0</td>\n",
       "      <td>2</td>\n",
       "    </tr>\n",
       "    <tr>\n",
       "      <th>1318163</th>\n",
       "      <td>0</td>\n",
       "      <td>2</td>\n",
       "    </tr>\n",
       "    <tr>\n",
       "      <th>1318164</th>\n",
       "      <td>0</td>\n",
       "      <td>0</td>\n",
       "    </tr>\n",
       "    <tr>\n",
       "      <th>1318165</th>\n",
       "      <td>1</td>\n",
       "      <td>2</td>\n",
       "    </tr>\n",
       "    <tr>\n",
       "      <th>1318166</th>\n",
       "      <td>2</td>\n",
       "      <td>3</td>\n",
       "    </tr>\n",
       "    <tr>\n",
       "      <th>...</th>\n",
       "      <td>...</td>\n",
       "      <td>...</td>\n",
       "    </tr>\n",
       "    <tr>\n",
       "      <th>1442866</th>\n",
       "      <td>3</td>\n",
       "      <td>0</td>\n",
       "    </tr>\n",
       "    <tr>\n",
       "      <th>1442865</th>\n",
       "      <td>2</td>\n",
       "      <td>3</td>\n",
       "    </tr>\n",
       "    <tr>\n",
       "      <th>1442864</th>\n",
       "      <td>1</td>\n",
       "      <td>1</td>\n",
       "    </tr>\n",
       "    <tr>\n",
       "      <th>1442871</th>\n",
       "      <td>2</td>\n",
       "      <td>3</td>\n",
       "    </tr>\n",
       "    <tr>\n",
       "      <th>1442485</th>\n",
       "      <td>0</td>\n",
       "      <td>2</td>\n",
       "    </tr>\n",
       "  </tbody>\n",
       "</table>\n",
       "<p>339860 rows × 2 columns</p>\n",
       "</div>"
      ],
      "text/plain": [
       "         target  target_pred\n",
       "1318162       0            2\n",
       "1318163       0            2\n",
       "1318164       0            0\n",
       "1318165       1            2\n",
       "1318166       2            3\n",
       "...         ...          ...\n",
       "1442866       3            0\n",
       "1442865       2            3\n",
       "1442864       1            1\n",
       "1442871       2            3\n",
       "1442485       0            2\n",
       "\n",
       "[339860 rows x 2 columns]"
      ]
     },
     "metadata": {},
     "output_type": "display_data"
    },
    {
     "data": {
      "text/html": [
       "<div>\n",
       "<style scoped>\n",
       "    .dataframe tbody tr th:only-of-type {\n",
       "        vertical-align: middle;\n",
       "    }\n",
       "\n",
       "    .dataframe tbody tr th {\n",
       "        vertical-align: top;\n",
       "    }\n",
       "\n",
       "    .dataframe thead th {\n",
       "        text-align: right;\n",
       "    }\n",
       "</style>\n",
       "<table border=\"1\" class=\"dataframe\">\n",
       "  <thead>\n",
       "    <tr style=\"text-align: right;\">\n",
       "      <th></th>\n",
       "      <th>y</th>\n",
       "      <th>target0_prob</th>\n",
       "      <th>target1_prob</th>\n",
       "      <th>target2_prob</th>\n",
       "    </tr>\n",
       "  </thead>\n",
       "  <tbody>\n",
       "    <tr>\n",
       "      <th>1318162</th>\n",
       "      <td>0</td>\n",
       "      <td>0.299771</td>\n",
       "      <td>0.022240</td>\n",
       "      <td>0.340571</td>\n",
       "    </tr>\n",
       "    <tr>\n",
       "      <th>1318163</th>\n",
       "      <td>0</td>\n",
       "      <td>0.285447</td>\n",
       "      <td>0.117424</td>\n",
       "      <td>0.301647</td>\n",
       "    </tr>\n",
       "    <tr>\n",
       "      <th>1318164</th>\n",
       "      <td>0</td>\n",
       "      <td>0.302748</td>\n",
       "      <td>0.213025</td>\n",
       "      <td>0.223564</td>\n",
       "    </tr>\n",
       "    <tr>\n",
       "      <th>1318165</th>\n",
       "      <td>1</td>\n",
       "      <td>0.136516</td>\n",
       "      <td>0.300276</td>\n",
       "      <td>0.337028</td>\n",
       "    </tr>\n",
       "    <tr>\n",
       "      <th>1318166</th>\n",
       "      <td>2</td>\n",
       "      <td>0.249034</td>\n",
       "      <td>0.227113</td>\n",
       "      <td>0.223167</td>\n",
       "    </tr>\n",
       "    <tr>\n",
       "      <th>...</th>\n",
       "      <td>...</td>\n",
       "      <td>...</td>\n",
       "      <td>...</td>\n",
       "      <td>...</td>\n",
       "    </tr>\n",
       "    <tr>\n",
       "      <th>1442866</th>\n",
       "      <td>3</td>\n",
       "      <td>0.477430</td>\n",
       "      <td>0.008280</td>\n",
       "      <td>0.193423</td>\n",
       "    </tr>\n",
       "    <tr>\n",
       "      <th>1442865</th>\n",
       "      <td>2</td>\n",
       "      <td>0.193206</td>\n",
       "      <td>0.011075</td>\n",
       "      <td>0.391824</td>\n",
       "    </tr>\n",
       "    <tr>\n",
       "      <th>1442864</th>\n",
       "      <td>1</td>\n",
       "      <td>0.000876</td>\n",
       "      <td>0.995376</td>\n",
       "      <td>0.002514</td>\n",
       "    </tr>\n",
       "    <tr>\n",
       "      <th>1442871</th>\n",
       "      <td>2</td>\n",
       "      <td>0.354074</td>\n",
       "      <td>0.009997</td>\n",
       "      <td>0.251191</td>\n",
       "    </tr>\n",
       "    <tr>\n",
       "      <th>1442485</th>\n",
       "      <td>0</td>\n",
       "      <td>0.211779</td>\n",
       "      <td>0.021783</td>\n",
       "      <td>0.386776</td>\n",
       "    </tr>\n",
       "  </tbody>\n",
       "</table>\n",
       "<p>339860 rows × 4 columns</p>\n",
       "</div>"
      ],
      "text/plain": [
       "         y  target0_prob  target1_prob  target2_prob\n",
       "1318162  0      0.299771      0.022240      0.340571\n",
       "1318163  0      0.285447      0.117424      0.301647\n",
       "1318164  0      0.302748      0.213025      0.223564\n",
       "1318165  1      0.136516      0.300276      0.337028\n",
       "1318166  2      0.249034      0.227113      0.223167\n",
       "...     ..           ...           ...           ...\n",
       "1442866  3      0.477430      0.008280      0.193423\n",
       "1442865  2      0.193206      0.011075      0.391824\n",
       "1442864  1      0.000876      0.995376      0.002514\n",
       "1442871  2      0.354074      0.009997      0.251191\n",
       "1442485  0      0.211779      0.021783      0.386776\n",
       "\n",
       "[339860 rows x 4 columns]"
      ]
     },
     "metadata": {},
     "output_type": "display_data"
    }
   ],
   "source": [
    "# 真値と予測値の表示\n",
    "df_pred = pd.DataFrame({'target':y_test,'target_pred':y_pred})\n",
    "display(df_pred)\n",
    "\n",
    "# 真値と予測確率の表示\n",
    "df_pred_prob = pd.DataFrame({'y':y_test, 'target0_prob':y_pred_prob[:,0], 'target1_prob':y_pred_prob[:,1], 'target2_prob':y_pred_prob[:,2]})\n",
    "display(df_pred_prob)"
   ]
  },
  {
   "cell_type": "code",
   "execution_count": 1,
   "metadata": {},
   "outputs": [
    {
     "ename": "NameError",
     "evalue": "name 'accuracy_score' is not defined",
     "output_type": "error",
     "traceback": [
      "\u001b[0;31m---------------------------------------------------------------------------\u001b[0m",
      "\u001b[0;31mNameError\u001b[0m                                 Traceback (most recent call last)",
      "\u001b[0;32m/tmp/ipykernel_169423/3808745549.py\u001b[0m in \u001b[0;36m<module>\u001b[0;34m\u001b[0m\n\u001b[0;32m----> 1\u001b[0;31m \u001b[0macc\u001b[0m \u001b[0;34m=\u001b[0m \u001b[0maccuracy_score\u001b[0m\u001b[0;34m(\u001b[0m\u001b[0my_test\u001b[0m\u001b[0;34m,\u001b[0m\u001b[0my_pred\u001b[0m\u001b[0;34m)\u001b[0m\u001b[0;34m\u001b[0m\u001b[0;34m\u001b[0m\u001b[0m\n\u001b[0m\u001b[1;32m      2\u001b[0m \u001b[0mprint\u001b[0m\u001b[0;34m(\u001b[0m\u001b[0;34m'Acc :'\u001b[0m\u001b[0;34m,\u001b[0m \u001b[0macc\u001b[0m\u001b[0;34m)\u001b[0m\u001b[0;34m\u001b[0m\u001b[0;34m\u001b[0m\u001b[0m\n",
      "\u001b[0;31mNameError\u001b[0m: name 'accuracy_score' is not defined"
     ]
    }
   ],
   "source": [
    "acc = accuracy_score(y_test,y_pred)\n",
    "print('Acc :', acc)"
   ]
  },
  {
   "cell_type": "code",
   "execution_count": 19,
   "metadata": {},
   "outputs": [],
   "source": [
    "trainval = lgb.Dataset(X_train,y_train)\n",
    "params = {\n",
    "    'objective' : 'binary',\n",
    "    'metric': 'binary_logloss',\n",
    "    'ramdom_seed' : 42\n",
    "}"
   ]
  },
  {
   "cell_type": "code",
   "execution_count": 20,
   "metadata": {},
   "outputs": [
    {
     "name": "stderr",
     "output_type": "stream",
     "text": [
      "\u001b[32m[I 2023-03-13 01:44:20,391]\u001b[0m A new study created in memory with name: no-name-abd8ae3f-ecc3-4792-a191-141b094ab610\u001b[0m\n",
      "feature_fraction, val_score: inf:   0%|          | 0/7 [00:00<?, ?it/s]/opt/conda/lib/python3.7/site-packages/lightgbm/engine.py:577: UserWarning: 'early_stopping_rounds' argument is deprecated and will be removed in a future release of LightGBM. Pass 'early_stopping()' callback via 'callbacks' argument instead.\n",
      "  _log_warning(\"'early_stopping_rounds' argument is deprecated and will be removed in a future release of LightGBM. \"\n"
     ]
    },
    {
     "ename": "",
     "evalue": "",
     "output_type": "error",
     "traceback": [
      "\u001b[1;31mCanceled future for execute_request message before replies were done"
     ]
    },
    {
     "ename": "",
     "evalue": "",
     "output_type": "error",
     "traceback": [
      "\u001b[1;31m現在のセルまたは前のセルでコードを実行中に、カーネルがクラッシュしました。エラーの原因を特定するには、セル内のコードを確認してください。詳細については、<a href='https://aka.ms/vscodeJupyterKernelCrash'>こちら</a> をクリックしてください。さらなる詳細については、Jupyter [log] (command:jupyter.viewOutput) を参照してください。"
     ]
    }
   ],
   "source": [
    "tuner = lgb.LightGBMTunerCV(params,trainval,verbose_eval=100,early_stopping_rounds=100,folds=KFold(n_splits=3))\n",
    "tuner.run()"
   ]
  },
  {
   "cell_type": "code",
   "execution_count": null,
   "metadata": {},
   "outputs": [],
   "source": [
    "best_params = tuner.besst"
   ]
  },
  {
   "cell_type": "code",
   "execution_count": 19,
   "metadata": {},
   "outputs": [],
   "source": [
    "import optuna.integration.lightgbm as lgb_o\n",
    "# 学習に使用するデータを設定\n",
    "train_data = lgb_o.Dataset(X_train, label=y_train)\n",
    "valid_data= lgb_o.Dataset(X_test, y_test, reference=train_data)\n",
    "\n",
    "params = {'task': 'train',\n",
    "    'boosting_type': 'gbdt',\n",
    "    'metric': 'binary_logloss',\n",
    "    'objective': 'binary',\n",
    "    'num_class': 4,\n",
    "    'learning_rate': 0.05,\n",
    "    'seed': 42,\n",
    "    'verbosity': -1,\n",
    "    'num_iterations': 10000,\n",
    "    'early_stopping_round': 100}"
   ]
  },
  {
   "cell_type": "code",
   "execution_count": 20,
   "metadata": {},
   "outputs": [
    {
     "name": "stderr",
     "output_type": "stream",
     "text": [
      "\u001b[32m[I 2023-03-13 01:46:44,140]\u001b[0m A new study created in memory with name: no-name-80332fba-1dac-4793-80d1-434587b887ae\u001b[0m\n",
      "feature_fraction, val_score: inf:   0%|          | 0/7 [00:00<?, ?it/s]/opt/conda/lib/python3.7/site-packages/lightgbm/engine.py:177: UserWarning: Found `num_iterations` in params. Will use it instead of argument\n",
      "  _log_warning(f\"Found `{alias}` in params. Will use it instead of argument\")\n",
      "/opt/conda/lib/python3.7/site-packages/lightgbm/engine.py:181: UserWarning: 'early_stopping_rounds' argument is deprecated and will be removed in a future release of LightGBM. Pass 'early_stopping()' callback via 'callbacks' argument instead.\n",
      "  _log_warning(\"'early_stopping_rounds' argument is deprecated and will be removed in a future release of LightGBM. \"\n",
      "/opt/conda/lib/python3.7/site-packages/lightgbm/engine.py:239: UserWarning: 'verbose_eval' argument is deprecated and will be removed in a future release of LightGBM. Pass 'log_evaluation()' callback via 'callbacks' argument instead.\n",
      "  _log_warning(\"'verbose_eval' argument is deprecated and will be removed in a future release of LightGBM. \"\n"
     ]
    },
    {
     "ename": "",
     "evalue": "",
     "output_type": "error",
     "traceback": [
      "\u001b[1;31mCanceled future for execute_request message before replies were done"
     ]
    },
    {
     "ename": "",
     "evalue": "",
     "output_type": "error",
     "traceback": [
      "\u001b[1;31m現在のセルまたは前のセルでコードを実行中に、カーネルがクラッシュしました。エラーの原因を特定するには、セル内のコードを確認してください。詳細については、<a href='https://aka.ms/vscodeJupyterKernelCrash'>こちら</a> をクリックしてください。さらなる詳細については、Jupyter [log] (command:jupyter.viewOutput) を参照してください。"
     ]
    }
   ],
   "source": [
    "best_params={}\n",
    "gbm = lgb.train(\n",
    "    params,\n",
    "    train_data,\n",
    "    valid_sets=[train_data, valid_data],\n",
    "    num_boost_round=10000,\n",
    "    early_stopping_rounds=100,\n",
    "    verbose_eval=20,\n",
    ")\n",
    "\n",
    "best_params= gbm.params\n",
    "best_params"
   ]
  },
  {
   "cell_type": "code",
   "execution_count": 22,
   "metadata": {},
   "outputs": [
    {
     "name": "stdout",
     "output_type": "stream",
     "text": [
      "正解率(accuracy_score):0.543132466309657\n",
      "再現率(recall_score):0.5331193170409179\n",
      "適合率(precision_score):0.4922485149284439\n",
      "F1値(f1_score):0.5031637269222022\n"
     ]
    }
   ],
   "source": [
    "#予測\n",
    "preds = gbm.predict(X_test, num_iteration=gbm.best_iteration)\n",
    "\n",
    "y_pred = []\n",
    "for x in preds:\n",
    "    y_pred.append(np.argmax(x))\n",
    "#評価指標は以下４つ\n",
    "from sklearn.metrics import accuracy_score\n",
    "from sklearn.metrics import recall_score\n",
    "from sklearn.metrics import precision_score\n",
    "from sklearn.metrics import f1_score\n",
    "#正解率など評価指標の計算\n",
    "print('正解率(accuracy_score):{}'.format(accuracy_score(y_test, y_pred)))\n",
    "#適合率、再現率、F1値はマクロ平均を取る\n",
    "print('再現率(recall_score):{}'.format(recall_score(y_test, y_pred, average='macro')))\n",
    "print('適合率(precision_score):{}'.format(precision_score(y_test, y_pred, average='macro')))\n",
    "print('F1値(f1_score):{}'.format(f1_score(y_test, y_pred, average='macro')))\n"
   ]
  },
  {
   "cell_type": "code",
   "execution_count": 23,
   "metadata": {},
   "outputs": [],
   "source": [
    "with open('model_gbm_2.pkl','wb') as model_file:\n",
    "    pickle.dump(gbm,model_file)"
   ]
  },
  {
   "cell_type": "code",
   "execution_count": 21,
   "metadata": {},
   "outputs": [],
   "source": [
    "importance = pd.DataFrame(gbm.feature_importance(), index=X_train_rus.columns, columns=['importance'])"
   ]
  },
  {
   "cell_type": "code",
   "execution_count": 22,
   "metadata": {},
   "outputs": [
    {
     "data": {
      "text/plain": [
       "<AxesSubplot:title={'center':'Feature importance'}, xlabel='Feature importance', ylabel='Features'>"
      ]
     },
     "execution_count": 22,
     "metadata": {},
     "output_type": "execute_result"
    },
    {
     "data": {
      "image/png": "[encoded data removed]",
      "text/plain": [
       "<Figure size 640x480 with 1 Axes>"
      ]
     },
     "metadata": {},
     "output_type": "display_data"
    }
   ],
   "source": [
    "lgb.plot_importance(gbm,max_num_features=10)"
   ]
  },
  {
   "attachments": {},
   "cell_type": "markdown",
   "metadata": {},
   "source": [
    "## 検証"
   ]
  },
  {
   "cell_type": "code",
   "execution_count": 25,
   "metadata": {},
   "outputs": [],
   "source": [
    "import numpy as np\n",
    "import pandas as pd\n",
    "import matplotlib.pyplot as pyplot\n",
    "import seaborn as sns; sns.set()\n",
    "import lightgbm as lgb\n",
    "from sklearn.metrics import accuracy_score\n",
    "from sklearn.metrics import log_loss\n",
    "from sklearn.metrics import roc_auc_score\n",
    "import re\n",
    "from bs4 import BeautifulSoup\n",
    "from urllib import request\n",
    "from urllib.request import urlopen\n",
    "import time\n",
    "import pickle\n",
    "from sklearn.preprocessing import StandardScaler"
   ]
  },
  {
   "cell_type": "code",
   "execution_count": 23,
   "metadata": {},
   "outputs": [],
   "source": [
    "predict_day = input('予測したい日をyyyymmdd型で入力:')\n",
    "jcd = input('予測したい場を2桁で入力:')\n",
    "rno = input('予測したいラウンドを入力:')"
   ]
  },
  {
   "cell_type": "code",
   "execution_count": 98,
   "metadata": {},
   "outputs": [],
   "source": [
    "url = 'https://www.boatrace.jp/owpc/pc/race/beforeinfo?rno='+str(rno)+\\\n",
    "        '&jcd='+str(jcd).zfill(2)+'&hd='+str(predict_day)\n",
    "time.sleep(1)\n",
    "response = request.urlopen(url)\n",
    "soup = BeautifulSoup(response,'html.parser')\n",
    "response.close()\n",
    "data_2 = []\n",
    "for i in range(0,6):\n",
    "    table = soup.find_all('tbody',class_='is-fs12')[i].get_text()\n",
    "    table = table.replace('\\n\\n','').replace('\\u3000','').replace('\\n',',')\n",
    "    table_data = table.split(',')\n",
    "    position_name = table_data[0]\n",
    "    name = position_name[1:]\n",
    "    display = table_data[2]\n",
    "    table2 = soup.find_all('tbody',class_='is-p10-0')[0].get_text()\n",
    "    table2 = table2.replace('\\n\\n\\n','').replace('\\n\\n',',').replace('\\n',',')\n",
    "    table2_data = table2.split(',')\n",
    "    st_times = {'st_time_1':table2_data[2],'st_time_2':table2_data[4],'st_time_3':table2_data[6],\\\n",
    "        'st_time_4':table2_data[8],'st_time_5':table2_data[10],'st_time_6':table2_data[12]}\n",
    "    table3 = soup.find('div',class_='weather1_body').get_text()\n",
    "    table3 = table3.replace('\\n\\n\\n\\n','').replace('\\n',',')\n",
    "    table3_data = table3.split(',')\n",
    "    weather = table3_data[3]\n",
    "    wind_strong = table3_data[5].replace('m水温','')\n",
    "    wave = table3_data[8].replace('cm','')\n",
    "    data_2.append([name,display,st_times['st_time_{}'.format(i+1)],weather,wind_strong,wave])\n",
    "df_2 = pd.DataFrame(data_2,columns=['name','display','st_time','weather','wind_strong','wave'])"
   ]
  },
  {
   "cell_type": "code",
   "execution_count": 121,
   "metadata": {},
   "outputs": [],
   "source": [
    "url = 'https://www.boatrace.jp/owpc/pc/race/beforeinfo?rno='+str(rno)+\\\n",
    "        '&jcd='+str(jcd).zfill(2)+'&hd='+str(predict_day)\n",
    "time.sleep(1)\n",
    "response = request.urlopen(url)\n",
    "soup = BeautifulSoup(response,'html.parser')\n",
    "response.close()"
   ]
  },
  {
   "cell_type": "code",
   "execution_count": 136,
   "metadata": {},
   "outputs": [],
   "source": [
    "table2 = soup.find_all('tbody',class_='is-fs12')[2].get_text()"
   ]
  },
  {
   "cell_type": "code",
   "execution_count": 137,
   "metadata": {},
   "outputs": [
    {
     "data": {
      "text/plain": [
       "'\\n\\n3\\n\\n尾形\\u3000\\u3000栄治\\n52.4kg\\n6.99\\n0.5\\n\\xa0\\n\\n\\n\\n\\nR\\n\\xa0\\n\\n\\n進入\\n\\xa0\\n\\n\\n0.0\\nST\\n\\xa0\\n\\n\\n着順\\n\\n\\n'"
      ]
     },
     "execution_count": 137,
     "metadata": {},
     "output_type": "execute_result"
    }
   ],
   "source": [
    "table2"
   ]
  },
  {
   "cell_type": "code",
   "execution_count": 138,
   "metadata": {},
   "outputs": [],
   "source": [
    "table2 = table2.replace('\\u3000','').replace('\\n\\n','').replace('\\n',',').split(',')"
   ]
  },
  {
   "cell_type": "code",
   "execution_count": 139,
   "metadata": {},
   "outputs": [
    {
     "data": {
      "text/plain": [
       "'6.99'"
      ]
     },
     "execution_count": 139,
     "metadata": {},
     "output_type": "execute_result"
    }
   ],
   "source": [
    "table2[2]"
   ]
  },
  {
   "cell_type": "code",
   "execution_count": 100,
   "metadata": {},
   "outputs": [],
   "source": [
    "st_times = {'st_time_1':table2_data[2],'st_time_2':table2_data[4],'st_time_3':table2_data[6],\\\n",
    "        'st_time_4':table2_data[8],'st_time_5':table2_data[10],'st_time_6':table2_data[12]}"
   ]
  },
  {
   "cell_type": "code",
   "execution_count": 99,
   "metadata": {},
   "outputs": [
    {
     "data": {
      "text/html": [
       "<div>\n",
       "<style scoped>\n",
       "    .dataframe tbody tr th:only-of-type {\n",
       "        vertical-align: middle;\n",
       "    }\n",
       "\n",
       "    .dataframe tbody tr th {\n",
       "        vertical-align: top;\n",
       "    }\n",
       "\n",
       "    .dataframe thead th {\n",
       "        text-align: right;\n",
       "    }\n",
       "</style>\n",
       "<table border=\"1\" class=\"dataframe\">\n",
       "  <thead>\n",
       "    <tr style=\"text-align: right;\">\n",
       "      <th></th>\n",
       "      <th>name</th>\n",
       "      <th>display</th>\n",
       "      <th>st_time</th>\n",
       "      <th>weather</th>\n",
       "      <th>wind_strong</th>\n",
       "      <th>wave</th>\n",
       "    </tr>\n",
       "  </thead>\n",
       "  <tbody>\n",
       "    <tr>\n",
       "      <th>0</th>\n",
       "      <td>萬正嗣</td>\n",
       "      <td>6.83</td>\n",
       "      <td>.04</td>\n",
       "      <td>晴</td>\n",
       "      <td>8</td>\n",
       "      <td>10</td>\n",
       "    </tr>\n",
       "    <tr>\n",
       "      <th>1</th>\n",
       "      <td>宇留田翔平</td>\n",
       "      <td>6.84</td>\n",
       "      <td>.06</td>\n",
       "      <td>晴</td>\n",
       "      <td>8</td>\n",
       "      <td>10</td>\n",
       "    </tr>\n",
       "    <tr>\n",
       "      <th>2</th>\n",
       "      <td>尾形栄治</td>\n",
       "      <td>6.99</td>\n",
       "      <td>F.02</td>\n",
       "      <td>晴</td>\n",
       "      <td>8</td>\n",
       "      <td>10</td>\n",
       "    </tr>\n",
       "    <tr>\n",
       "      <th>3</th>\n",
       "      <td>金山立樹</td>\n",
       "      <td>6.84</td>\n",
       "      <td>.01</td>\n",
       "      <td>晴</td>\n",
       "      <td>8</td>\n",
       "      <td>10</td>\n",
       "    </tr>\n",
       "    <tr>\n",
       "      <th>4</th>\n",
       "      <td>大塚雅治</td>\n",
       "      <td>6.69</td>\n",
       "      <td>.09</td>\n",
       "      <td>晴</td>\n",
       "      <td>8</td>\n",
       "      <td>10</td>\n",
       "    </tr>\n",
       "  </tbody>\n",
       "</table>\n",
       "</div>"
      ],
      "text/plain": [
       "    name display st_time weather wind_strong wave\n",
       "0    萬正嗣    6.83     .04       晴           8   10\n",
       "1  宇留田翔平    6.84     .06       晴           8   10\n",
       "2   尾形栄治    6.99    F.02       晴           8   10\n",
       "3   金山立樹    6.84     .01       晴           8   10\n",
       "4   大塚雅治    6.69     .09       晴           8   10"
      ]
     },
     "execution_count": 99,
     "metadata": {},
     "output_type": "execute_result"
    }
   ],
   "source": [
    "df_2.head()"
   ]
  },
  {
   "cell_type": "code",
   "execution_count": null,
   "metadata": {},
   "outputs": [],
   "source": []
  }
 ],
 "metadata": {
  "kernelspec": {
   "display_name": "base",
   "language": "python",
   "name": "python3"
  },
  "language_info": {
   "codemirror_mode": {
    "name": "ipython",
    "version": 3
   },
   "file_extension": ".py",
   "mimetype": "text/x-python",
   "name": "python",
   "nbconvert_exporter": "python",
   "pygments_lexer": "ipython3",
   "version": "3.7.12 | packaged by conda-forge | (default, Oct 26 2021, 06:08:53) \n[GCC 9.4.0]"
  },
  "orig_nbformat": 4,
  "vscode": {
   "interpreter": {
    "hash": "d4d1e4263499bec80672ea0156c357c1ee493ec2b1c70f0acce89fc37c4a6abe"
   }
  }
 },
 "nbformat": 4,
 "nbformat_minor": 2
}
