{
 "cells": [
  {
   "attachments": {},
   "cell_type": "markdown",
   "metadata": {},
   "source": [
    "# データ読み込み"
   ]
  },
  {
   "cell_type": "code",
   "execution_count": 4,
   "metadata": {},
   "outputs": [],
   "source": [
    "import pandas as pd\n",
    "import numpy as np"
   ]
  },
  {
   "cell_type": "code",
   "execution_count": 13,
   "metadata": {},
   "outputs": [],
   "source": [
    "df = pd.read_csv('/volume_dir/boatrace/df_label_encode.csv')"
   ]
  },
  {
   "cell_type": "markdown",
   "metadata": {},
   "source": [
    "# 前処理"
   ]
  },
  {
   "cell_type": "code",
   "execution_count": 3,
   "metadata": {},
   "outputs": [
    {
     "data": {
      "text/plain": [
       "Index(['race_code', 'date', 'race_date', 'place', 'round', 'order', 'number',\n",
       "       'display', 'in', 'st_time', 'race_time', 'type', 'weather', 'wind',\n",
       "       'wind_strong', 'wave', 'title', 'race_name', 'position', 'name', 'age',\n",
       "       'area', 'weight', 'class', 'win_p', 'win_p_2', 'a_win_p', 'a_win_p_2',\n",
       "       'motor', 'motor_p_2', 'boat', 'boat_p_2', 'day', 'day_of_year',\n",
       "       'day_of_year_cos', 'day_of_year_sin'],\n",
       "      dtype='object')"
      ]
     },
     "execution_count": 3,
     "metadata": {},
     "output_type": "execute_result"
    }
   ],
   "source": [
    "df.columns"
   ]
  },
  {
   "cell_type": "code",
   "execution_count": 14,
   "metadata": {},
   "outputs": [],
   "source": [
    "#　使わない変数を消去\n",
    "drop_name = ['race_code','race_date','number','title', 'race_name','in']\n",
    "df = df.drop(drop_name, axis=1)"
   ]
  },
  {
   "attachments": {},
   "cell_type": "markdown",
   "metadata": {},
   "source": [
    "# 関数"
   ]
  },
  {
   "cell_type": "code",
   "execution_count": 15,
   "metadata": {},
   "outputs": [],
   "source": [
    "# 時系列で整列したもの\n",
    "def split_data(df,test_size):\n",
    "    sorted_id_list = df.sort_values('race_date').index.unique()\n",
    "    train_id_list = sorted_id_list[:round(len(sorted_id_list)*(1-test_size))]\n",
    "    test_id_list = sorted_id_list[round(len(sorted_id_list)*(1-test_size)):]\n",
    "    train = df.loc[train_id_list]\n",
    "    test = df.loc[test_id_list]\n",
    "    return train,test\n",
    "\n",
    "def order_reset(df):\n",
    "    # 4位以下の着順を4で統一\n",
    "    clip_order = lambda x: x if x<4 else 4\n",
    "    df['order'] = df['order'].map(clip_order)\n",
    "    \n",
    "    return df"
   ]
  },
  {
   "attachments": {},
   "cell_type": "markdown",
   "metadata": {},
   "source": [
    "# ここからが推論編"
   ]
  },
  {
   "attachments": {},
   "cell_type": "markdown",
   "metadata": {},
   "source": [
    "## ロジスティック回帰"
   ]
  },
  {
   "cell_type": "code",
   "execution_count": 26,
   "metadata": {},
   "outputs": [],
   "source": [
    "from sklearn.linear_model import LogisticRegression\n",
    "from sklearn.model_selection import train_test_split\n",
    "\n",
    "X = df.drop(['order'], axis=1)\n",
    "y = df['order']\n",
    "\n",
    "X_train, X_test, y_train, y_test = train_test_split(X,y,stratify=y,test_size=0.2,random_state=42)"
   ]
  },
  {
   "cell_type": "code",
   "execution_count": 17,
   "metadata": {},
   "outputs": [
    {
     "name": "stdout",
     "output_type": "stream",
     "text": [
      "(1038420, 29)\n",
      "(259606, 29)\n",
      "(1038420,)\n",
      "(259606,)\n"
     ]
    }
   ],
   "source": [
    "print(X_train.shape)\n",
    "print(X_test.shape)\n",
    "print(y_train.shape)\n",
    "print(y_test.shape)"
   ]
  },
  {
   "cell_type": "code",
   "execution_count": 22,
   "metadata": {},
   "outputs": [
    {
     "data": {
      "text/plain": [
       "2    228814\n",
       "1    228805\n",
       "3    228757\n",
       "4    228214\n",
       "5     63705\n",
       "6     60125\n",
       "Name: order, dtype: int64"
      ]
     },
     "execution_count": 22,
     "metadata": {},
     "output_type": "execute_result"
    }
   ],
   "source": [
    "y_train.value_counts()"
   ]
  },
  {
   "cell_type": "code",
   "execution_count": 27,
   "metadata": {},
   "outputs": [],
   "source": [
    "from imblearn.under_sampling import RandomUnderSampler\n",
    "order_1 = y_train.value_counts()[1]\n",
    "order_2 = y_train.value_counts()[2]\n",
    "order_3 = y_train.value_counts()[3]\n",
    "strategy = {1:order_1,2:order_2,3:order_3,4:order_1}\n",
    "rus = RandomUnderSampler(sampling_strategy = strategy,random_state=42)\n",
    "X_train_rus, y_train_rus = rus.fit_resample(X_train,y_train)"
   ]
  },
  {
   "cell_type": "code",
   "execution_count": 30,
   "metadata": {},
   "outputs": [
    {
     "data": {
      "text/plain": [
       "2    228814\n",
       "1    228805\n",
       "4    228805\n",
       "3    228757\n",
       "Name: order, dtype: int64"
      ]
     },
     "execution_count": 30,
     "metadata": {},
     "output_type": "execute_result"
    }
   ],
   "source": [
    "pd.Series(y_train_rus).value_counts()"
   ]
  },
  {
   "cell_type": "code",
   "execution_count": 31,
   "metadata": {},
   "outputs": [
    {
     "name": "stderr",
     "output_type": "stream",
     "text": [
      "/opt/conda/lib/python3.7/site-packages/sklearn/linear_model/_logistic.py:818: ConvergenceWarning: lbfgs failed to converge (status=1):\n",
      "STOP: TOTAL NO. of ITERATIONS REACHED LIMIT.\n",
      "\n",
      "Increase the number of iterations (max_iter) or scale the data as shown in:\n",
      "    https://scikit-learn.org/stable/modules/preprocessing.html\n",
      "Please also refer to the documentation for alternative solver options:\n",
      "    https://scikit-learn.org/stable/modules/linear_model.html#logistic-regression\n",
      "  extra_warning_msg=_LOGISTIC_SOLVER_CONVERGENCE_MSG,\n"
     ]
    },
    {
     "data": {
      "text/plain": [
       "LogisticRegression()"
      ]
     },
     "execution_count": 31,
     "metadata": {},
     "output_type": "execute_result"
    }
   ],
   "source": [
    "model = LogisticRegression()\n",
    "model.fit(X_train, y_train)"
   ]
  },
  {
   "cell_type": "code",
   "execution_count": 32,
   "metadata": {},
   "outputs": [
    {
     "name": "stdout",
     "output_type": "stream",
     "text": [
      "0.40632499374049036 0.40700137901281175\n"
     ]
    }
   ],
   "source": [
    "print(model.score(X_train,y_train),model.score(X_test, y_test))"
   ]
  },
  {
   "cell_type": "code",
   "execution_count": 34,
   "metadata": {},
   "outputs": [],
   "source": [
    "y_pred = model.predict(X_test)"
   ]
  },
  {
   "cell_type": "code",
   "execution_count": 35,
   "metadata": {},
   "outputs": [],
   "source": [
    "pred_df = pd.DataFrame({'pred':y_pred,'actual':y_test})"
   ]
  },
  {
   "cell_type": "code",
   "execution_count": 41,
   "metadata": {},
   "outputs": [
    {
     "data": {
      "text/plain": [
       "4    68199\n",
       "3    35821\n",
       "2    29338\n",
       "1    20083\n",
       "Name: actual, dtype: int64"
      ]
     },
     "execution_count": 41,
     "metadata": {},
     "output_type": "execute_result"
    }
   ],
   "source": [
    "pred_df[pred_df['pred']==4]['actual'].value_counts()"
   ]
  },
  {
   "cell_type": "code",
   "execution_count": 40,
   "metadata": {},
   "outputs": [
    {
     "data": {
      "text/plain": [
       "153441"
      ]
     },
     "execution_count": 40,
     "metadata": {},
     "output_type": "execute_result"
    }
   ],
   "source": [
    "len(pred_df[pred_df['pred']==4])"
   ]
  },
  {
   "cell_type": "code",
   "execution_count": 42,
   "metadata": {},
   "outputs": [
    {
     "data": {
      "text/plain": [
       "<AxesSubplot:>"
      ]
     },
     "execution_count": 42,
     "metadata": {},
     "output_type": "execute_result"
    },
    {
     "data": {
      "image/png": "[encoded data removed]",
      "text/plain": [
       "<Figure size 640x480 with 1 Axes>"
      ]
     },
     "metadata": {},
     "output_type": "display_data"
    }
   ],
   "source": [
    "pd.Series(model.coef_[0],index=X.columns).sort_values(ascending=False).plot(kind='barh')"
   ]
  },
  {
   "attachments": {},
   "cell_type": "markdown",
   "metadata": {},
   "source": [
    "## ランダムフォレスト"
   ]
  },
  {
   "cell_type": "code",
   "execution_count": 105,
   "metadata": {},
   "outputs": [],
   "source": [
    "df = pd.read_csv('/volume_dir/boatrace/df_label_encode.csv')"
   ]
  },
  {
   "cell_type": "code",
   "execution_count": 132,
   "metadata": {},
   "outputs": [],
   "source": [
    "clip_order = lambda x: 1 if x<4 else 0\n",
    "df['order'] = df['order'].map(clip_order)"
   ]
  },
  {
   "cell_type": "code",
   "execution_count": 133,
   "metadata": {},
   "outputs": [],
   "source": [
    "df['race_date'] = pd.to_datetime(df['race_date'])"
   ]
  },
  {
   "cell_type": "code",
   "execution_count": 134,
   "metadata": {},
   "outputs": [
    {
     "ename": "KeyError",
     "evalue": "\"['race_code' 'number' 'title' 'race_name' 'in' 'race_time'] not found in axis\"",
     "output_type": "error",
     "traceback": [
      "\u001b[0;31m---------------------------------------------------------------------------\u001b[0m",
      "\u001b[0;31mKeyError\u001b[0m                                  Traceback (most recent call last)",
      "\u001b[0;32m/tmp/ipykernel_226878/557954583.py\u001b[0m in \u001b[0;36m<module>\u001b[0;34m\u001b[0m\n\u001b[1;32m      1\u001b[0m \u001b[0;31m#　使わない変数を消去\u001b[0m\u001b[0;34m\u001b[0m\u001b[0;34m\u001b[0m\u001b[0;34m\u001b[0m\u001b[0m\n\u001b[1;32m      2\u001b[0m \u001b[0mdrop_name\u001b[0m \u001b[0;34m=\u001b[0m \u001b[0;34m[\u001b[0m\u001b[0;34m'race_code'\u001b[0m\u001b[0;34m,\u001b[0m\u001b[0;34m'number'\u001b[0m\u001b[0;34m,\u001b[0m\u001b[0;34m'title'\u001b[0m\u001b[0;34m,\u001b[0m \u001b[0;34m'race_name'\u001b[0m\u001b[0;34m,\u001b[0m\u001b[0;34m'in'\u001b[0m\u001b[0;34m,\u001b[0m\u001b[0;34m'race_time'\u001b[0m\u001b[0;34m]\u001b[0m\u001b[0;34m\u001b[0m\u001b[0;34m\u001b[0m\u001b[0m\n\u001b[0;32m----> 3\u001b[0;31m \u001b[0mdf\u001b[0m \u001b[0;34m=\u001b[0m \u001b[0mdf\u001b[0m\u001b[0;34m.\u001b[0m\u001b[0mdrop\u001b[0m\u001b[0;34m(\u001b[0m\u001b[0mdrop_name\u001b[0m\u001b[0;34m,\u001b[0m \u001b[0maxis\u001b[0m\u001b[0;34m=\u001b[0m\u001b[0;36m1\u001b[0m\u001b[0;34m)\u001b[0m\u001b[0;34m\u001b[0m\u001b[0;34m\u001b[0m\u001b[0m\n\u001b[0m",
      "\u001b[0;32m/opt/conda/lib/python3.7/site-packages/pandas/util/_decorators.py\u001b[0m in \u001b[0;36mwrapper\u001b[0;34m(*args, **kwargs)\u001b[0m\n\u001b[1;32m    309\u001b[0m                     \u001b[0mstacklevel\u001b[0m\u001b[0;34m=\u001b[0m\u001b[0mstacklevel\u001b[0m\u001b[0;34m,\u001b[0m\u001b[0;34m\u001b[0m\u001b[0;34m\u001b[0m\u001b[0m\n\u001b[1;32m    310\u001b[0m                 )\n\u001b[0;32m--> 311\u001b[0;31m             \u001b[0;32mreturn\u001b[0m \u001b[0mfunc\u001b[0m\u001b[0;34m(\u001b[0m\u001b[0;34m*\u001b[0m\u001b[0margs\u001b[0m\u001b[0;34m,\u001b[0m \u001b[0;34m**\u001b[0m\u001b[0mkwargs\u001b[0m\u001b[0;34m)\u001b[0m\u001b[0;34m\u001b[0m\u001b[0;34m\u001b[0m\u001b[0m\n\u001b[0m\u001b[1;32m    312\u001b[0m \u001b[0;34m\u001b[0m\u001b[0m\n\u001b[1;32m    313\u001b[0m         \u001b[0;32mreturn\u001b[0m \u001b[0mwrapper\u001b[0m\u001b[0;34m\u001b[0m\u001b[0;34m\u001b[0m\u001b[0m\n",
      "\u001b[0;32m/opt/conda/lib/python3.7/site-packages/pandas/core/frame.py\u001b[0m in \u001b[0;36mdrop\u001b[0;34m(self, labels, axis, index, columns, level, inplace, errors)\u001b[0m\n\u001b[1;32m   4911\u001b[0m             \u001b[0mlevel\u001b[0m\u001b[0;34m=\u001b[0m\u001b[0mlevel\u001b[0m\u001b[0;34m,\u001b[0m\u001b[0;34m\u001b[0m\u001b[0;34m\u001b[0m\u001b[0m\n\u001b[1;32m   4912\u001b[0m             \u001b[0minplace\u001b[0m\u001b[0;34m=\u001b[0m\u001b[0minplace\u001b[0m\u001b[0;34m,\u001b[0m\u001b[0;34m\u001b[0m\u001b[0;34m\u001b[0m\u001b[0m\n\u001b[0;32m-> 4913\u001b[0;31m             \u001b[0merrors\u001b[0m\u001b[0;34m=\u001b[0m\u001b[0merrors\u001b[0m\u001b[0;34m,\u001b[0m\u001b[0;34m\u001b[0m\u001b[0;34m\u001b[0m\u001b[0m\n\u001b[0m\u001b[1;32m   4914\u001b[0m         )\n\u001b[1;32m   4915\u001b[0m \u001b[0;34m\u001b[0m\u001b[0m\n",
      "\u001b[0;32m/opt/conda/lib/python3.7/site-packages/pandas/core/generic.py\u001b[0m in \u001b[0;36mdrop\u001b[0;34m(self, labels, axis, index, columns, level, inplace, errors)\u001b[0m\n\u001b[1;32m   4148\u001b[0m         \u001b[0;32mfor\u001b[0m \u001b[0maxis\u001b[0m\u001b[0;34m,\u001b[0m \u001b[0mlabels\u001b[0m \u001b[0;32min\u001b[0m \u001b[0maxes\u001b[0m\u001b[0;34m.\u001b[0m\u001b[0mitems\u001b[0m\u001b[0;34m(\u001b[0m\u001b[0;34m)\u001b[0m\u001b[0;34m:\u001b[0m\u001b[0;34m\u001b[0m\u001b[0;34m\u001b[0m\u001b[0m\n\u001b[1;32m   4149\u001b[0m             \u001b[0;32mif\u001b[0m \u001b[0mlabels\u001b[0m \u001b[0;32mis\u001b[0m \u001b[0;32mnot\u001b[0m \u001b[0;32mNone\u001b[0m\u001b[0;34m:\u001b[0m\u001b[0;34m\u001b[0m\u001b[0;34m\u001b[0m\u001b[0m\n\u001b[0;32m-> 4150\u001b[0;31m                 \u001b[0mobj\u001b[0m \u001b[0;34m=\u001b[0m \u001b[0mobj\u001b[0m\u001b[0;34m.\u001b[0m\u001b[0m_drop_axis\u001b[0m\u001b[0;34m(\u001b[0m\u001b[0mlabels\u001b[0m\u001b[0;34m,\u001b[0m \u001b[0maxis\u001b[0m\u001b[0;34m,\u001b[0m \u001b[0mlevel\u001b[0m\u001b[0;34m=\u001b[0m\u001b[0mlevel\u001b[0m\u001b[0;34m,\u001b[0m \u001b[0merrors\u001b[0m\u001b[0;34m=\u001b[0m\u001b[0merrors\u001b[0m\u001b[0;34m)\u001b[0m\u001b[0;34m\u001b[0m\u001b[0;34m\u001b[0m\u001b[0m\n\u001b[0m\u001b[1;32m   4151\u001b[0m \u001b[0;34m\u001b[0m\u001b[0m\n\u001b[1;32m   4152\u001b[0m         \u001b[0;32mif\u001b[0m \u001b[0minplace\u001b[0m\u001b[0;34m:\u001b[0m\u001b[0;34m\u001b[0m\u001b[0;34m\u001b[0m\u001b[0m\n",
      "\u001b[0;32m/opt/conda/lib/python3.7/site-packages/pandas/core/generic.py\u001b[0m in \u001b[0;36m_drop_axis\u001b[0;34m(self, labels, axis, level, errors)\u001b[0m\n\u001b[1;32m   4183\u001b[0m                 \u001b[0mnew_axis\u001b[0m \u001b[0;34m=\u001b[0m \u001b[0maxis\u001b[0m\u001b[0;34m.\u001b[0m\u001b[0mdrop\u001b[0m\u001b[0;34m(\u001b[0m\u001b[0mlabels\u001b[0m\u001b[0;34m,\u001b[0m \u001b[0mlevel\u001b[0m\u001b[0;34m=\u001b[0m\u001b[0mlevel\u001b[0m\u001b[0;34m,\u001b[0m \u001b[0merrors\u001b[0m\u001b[0;34m=\u001b[0m\u001b[0merrors\u001b[0m\u001b[0;34m)\u001b[0m\u001b[0;34m\u001b[0m\u001b[0;34m\u001b[0m\u001b[0m\n\u001b[1;32m   4184\u001b[0m             \u001b[0;32melse\u001b[0m\u001b[0;34m:\u001b[0m\u001b[0;34m\u001b[0m\u001b[0;34m\u001b[0m\u001b[0m\n\u001b[0;32m-> 4185\u001b[0;31m                 \u001b[0mnew_axis\u001b[0m \u001b[0;34m=\u001b[0m \u001b[0maxis\u001b[0m\u001b[0;34m.\u001b[0m\u001b[0mdrop\u001b[0m\u001b[0;34m(\u001b[0m\u001b[0mlabels\u001b[0m\u001b[0;34m,\u001b[0m \u001b[0merrors\u001b[0m\u001b[0;34m=\u001b[0m\u001b[0merrors\u001b[0m\u001b[0;34m)\u001b[0m\u001b[0;34m\u001b[0m\u001b[0;34m\u001b[0m\u001b[0m\n\u001b[0m\u001b[1;32m   4186\u001b[0m             \u001b[0mresult\u001b[0m \u001b[0;34m=\u001b[0m \u001b[0mself\u001b[0m\u001b[0;34m.\u001b[0m\u001b[0mreindex\u001b[0m\u001b[0;34m(\u001b[0m\u001b[0;34m**\u001b[0m\u001b[0;34m{\u001b[0m\u001b[0maxis_name\u001b[0m\u001b[0;34m:\u001b[0m \u001b[0mnew_axis\u001b[0m\u001b[0;34m}\u001b[0m\u001b[0;34m)\u001b[0m\u001b[0;34m\u001b[0m\u001b[0;34m\u001b[0m\u001b[0m\n\u001b[1;32m   4187\u001b[0m \u001b[0;34m\u001b[0m\u001b[0m\n",
      "\u001b[0;32m/opt/conda/lib/python3.7/site-packages/pandas/core/indexes/base.py\u001b[0m in \u001b[0;36mdrop\u001b[0;34m(self, labels, errors)\u001b[0m\n\u001b[1;32m   6015\u001b[0m         \u001b[0;32mif\u001b[0m \u001b[0mmask\u001b[0m\u001b[0;34m.\u001b[0m\u001b[0many\u001b[0m\u001b[0;34m(\u001b[0m\u001b[0;34m)\u001b[0m\u001b[0;34m:\u001b[0m\u001b[0;34m\u001b[0m\u001b[0;34m\u001b[0m\u001b[0m\n\u001b[1;32m   6016\u001b[0m             \u001b[0;32mif\u001b[0m \u001b[0merrors\u001b[0m \u001b[0;34m!=\u001b[0m \u001b[0;34m\"ignore\"\u001b[0m\u001b[0;34m:\u001b[0m\u001b[0;34m\u001b[0m\u001b[0;34m\u001b[0m\u001b[0m\n\u001b[0;32m-> 6017\u001b[0;31m                 \u001b[0;32mraise\u001b[0m \u001b[0mKeyError\u001b[0m\u001b[0;34m(\u001b[0m\u001b[0;34mf\"{labels[mask]} not found in axis\"\u001b[0m\u001b[0;34m)\u001b[0m\u001b[0;34m\u001b[0m\u001b[0;34m\u001b[0m\u001b[0m\n\u001b[0m\u001b[1;32m   6018\u001b[0m             \u001b[0mindexer\u001b[0m \u001b[0;34m=\u001b[0m \u001b[0mindexer\u001b[0m\u001b[0;34m[\u001b[0m\u001b[0;34m~\u001b[0m\u001b[0mmask\u001b[0m\u001b[0;34m]\u001b[0m\u001b[0;34m\u001b[0m\u001b[0;34m\u001b[0m\u001b[0m\n\u001b[1;32m   6019\u001b[0m         \u001b[0;32mreturn\u001b[0m \u001b[0mself\u001b[0m\u001b[0;34m.\u001b[0m\u001b[0mdelete\u001b[0m\u001b[0;34m(\u001b[0m\u001b[0mindexer\u001b[0m\u001b[0;34m)\u001b[0m\u001b[0;34m\u001b[0m\u001b[0;34m\u001b[0m\u001b[0m\n",
      "\u001b[0;31mKeyError\u001b[0m: \"['race_code' 'number' 'title' 'race_name' 'in' 'race_time'] not found in axis\""
     ]
    }
   ],
   "source": [
    "#　使わない変数を消去\n",
    "drop_name = ['race_code','number','title', 'race_name','in','race_time']\n",
    "df = df.drop(drop_name, axis=1)"
   ]
  },
  {
   "cell_type": "code",
   "execution_count": 135,
   "metadata": {},
   "outputs": [],
   "source": [
    "def split_data(df,test_size):\n",
    "    sorted_id_list = df.sort_values('race_date').index.unique()\n",
    "    train_id_list = sorted_id_list[:round(len(sorted_id_list)*(1-test_size))]\n",
    "    test_id_list = sorted_id_list[round(len(sorted_id_list)*(1-test_size)):]\n",
    "    train = df.loc[train_id_list]\n",
    "    test = df.loc[test_id_list]\n",
    "    return train,test"
   ]
  },
  {
   "cell_type": "code",
   "execution_count": 136,
   "metadata": {},
   "outputs": [],
   "source": [
    "train,test = split_data(df,0.3)"
   ]
  },
  {
   "cell_type": "code",
   "execution_count": 137,
   "metadata": {},
   "outputs": [],
   "source": [
    "X_train = train.drop(['order','race_date'], axis=1)\n",
    "y_train = train['order']\n",
    "X_test = test.drop(['order','race_date'], axis=1)\n",
    "y_test = test['order']"
   ]
  },
  {
   "cell_type": "code",
   "execution_count": 138,
   "metadata": {},
   "outputs": [
    {
     "name": "stdout",
     "output_type": "stream",
     "text": [
      "(908618, 28)\n",
      "(389408, 28)\n",
      "(908618,)\n",
      "(389408,)\n"
     ]
    }
   ],
   "source": [
    "print(X_train.shape)\n",
    "print(X_test.shape)\n",
    "print(y_train.shape)\n",
    "print(y_test.shape)"
   ]
  },
  {
   "cell_type": "code",
   "execution_count": 149,
   "metadata": {},
   "outputs": [
    {
     "data": {
      "text/plain": [
       "440056"
      ]
     },
     "execution_count": 149,
     "metadata": {},
     "output_type": "execute_result"
    }
   ],
   "source": [
    "df['order'].value_counts()[0]"
   ]
  },
  {
   "cell_type": "code",
   "execution_count": 140,
   "metadata": {},
   "outputs": [
    {
     "ename": "KeyError",
     "evalue": "2",
     "output_type": "error",
     "traceback": [
      "\u001b[0;31m---------------------------------------------------------------------------\u001b[0m",
      "\u001b[0;31mKeyError\u001b[0m                                  Traceback (most recent call last)",
      "\u001b[0;32m/opt/conda/lib/python3.7/site-packages/pandas/core/indexes/base.py\u001b[0m in \u001b[0;36mget_loc\u001b[0;34m(self, key, method, tolerance)\u001b[0m\n\u001b[1;32m   3360\u001b[0m             \u001b[0;32mtry\u001b[0m\u001b[0;34m:\u001b[0m\u001b[0;34m\u001b[0m\u001b[0;34m\u001b[0m\u001b[0m\n\u001b[0;32m-> 3361\u001b[0;31m                 \u001b[0;32mreturn\u001b[0m \u001b[0mself\u001b[0m\u001b[0;34m.\u001b[0m\u001b[0m_engine\u001b[0m\u001b[0;34m.\u001b[0m\u001b[0mget_loc\u001b[0m\u001b[0;34m(\u001b[0m\u001b[0mcasted_key\u001b[0m\u001b[0;34m)\u001b[0m\u001b[0;34m\u001b[0m\u001b[0;34m\u001b[0m\u001b[0m\n\u001b[0m\u001b[1;32m   3362\u001b[0m             \u001b[0;32mexcept\u001b[0m \u001b[0mKeyError\u001b[0m \u001b[0;32mas\u001b[0m \u001b[0merr\u001b[0m\u001b[0;34m:\u001b[0m\u001b[0;34m\u001b[0m\u001b[0;34m\u001b[0m\u001b[0m\n",
      "\u001b[0;32m/opt/conda/lib/python3.7/site-packages/pandas/_libs/index.pyx\u001b[0m in \u001b[0;36mpandas._libs.index.IndexEngine.get_loc\u001b[0;34m()\u001b[0m\n",
      "\u001b[0;32m/opt/conda/lib/python3.7/site-packages/pandas/_libs/index.pyx\u001b[0m in \u001b[0;36mpandas._libs.index.IndexEngine.get_loc\u001b[0;34m()\u001b[0m\n",
      "\u001b[0;32mpandas/_libs/hashtable_class_helper.pxi\u001b[0m in \u001b[0;36mpandas._libs.hashtable.Int64HashTable.get_item\u001b[0;34m()\u001b[0m\n",
      "\u001b[0;32mpandas/_libs/hashtable_class_helper.pxi\u001b[0m in \u001b[0;36mpandas._libs.hashtable.Int64HashTable.get_item\u001b[0;34m()\u001b[0m\n",
      "\u001b[0;31mKeyError\u001b[0m: 2",
      "\nThe above exception was the direct cause of the following exception:\n",
      "\u001b[0;31mKeyError\u001b[0m                                  Traceback (most recent call last)",
      "\u001b[0;32m/tmp/ipykernel_226878/2632345615.py\u001b[0m in \u001b[0;36m<module>\u001b[0;34m\u001b[0m\n\u001b[1;32m      1\u001b[0m \u001b[0;32mfrom\u001b[0m \u001b[0mimblearn\u001b[0m\u001b[0;34m.\u001b[0m\u001b[0munder_sampling\u001b[0m \u001b[0;32mimport\u001b[0m \u001b[0mRandomUnderSampler\u001b[0m\u001b[0;34m\u001b[0m\u001b[0;34m\u001b[0m\u001b[0m\n\u001b[1;32m      2\u001b[0m \u001b[0morder_1\u001b[0m \u001b[0;34m=\u001b[0m \u001b[0mtrain\u001b[0m\u001b[0;34m[\u001b[0m\u001b[0;34m'order'\u001b[0m\u001b[0;34m]\u001b[0m\u001b[0;34m.\u001b[0m\u001b[0mvalue_counts\u001b[0m\u001b[0;34m(\u001b[0m\u001b[0;34m)\u001b[0m\u001b[0;34m[\u001b[0m\u001b[0;36m1\u001b[0m\u001b[0;34m]\u001b[0m\u001b[0;34m\u001b[0m\u001b[0;34m\u001b[0m\u001b[0m\n\u001b[0;32m----> 3\u001b[0;31m \u001b[0morder_2\u001b[0m \u001b[0;34m=\u001b[0m \u001b[0mtrain\u001b[0m\u001b[0;34m[\u001b[0m\u001b[0;34m'order'\u001b[0m\u001b[0;34m]\u001b[0m\u001b[0;34m.\u001b[0m\u001b[0mvalue_counts\u001b[0m\u001b[0;34m(\u001b[0m\u001b[0;34m)\u001b[0m\u001b[0;34m[\u001b[0m\u001b[0;36m2\u001b[0m\u001b[0;34m]\u001b[0m\u001b[0;34m\u001b[0m\u001b[0;34m\u001b[0m\u001b[0m\n\u001b[0m\u001b[1;32m      4\u001b[0m \u001b[0morder_3\u001b[0m \u001b[0;34m=\u001b[0m \u001b[0mtrain\u001b[0m\u001b[0;34m[\u001b[0m\u001b[0;34m'order'\u001b[0m\u001b[0;34m]\u001b[0m\u001b[0;34m.\u001b[0m\u001b[0mvalue_counts\u001b[0m\u001b[0;34m(\u001b[0m\u001b[0;34m)\u001b[0m\u001b[0;34m[\u001b[0m\u001b[0;36m3\u001b[0m\u001b[0;34m]\u001b[0m\u001b[0;34m\u001b[0m\u001b[0;34m\u001b[0m\u001b[0m\n\u001b[1;32m      5\u001b[0m \u001b[0mstrategy\u001b[0m \u001b[0;34m=\u001b[0m \u001b[0;34m{\u001b[0m\u001b[0;36m1\u001b[0m\u001b[0;34m:\u001b[0m\u001b[0morder_1\u001b[0m\u001b[0;34m,\u001b[0m\u001b[0;36m2\u001b[0m\u001b[0;34m:\u001b[0m\u001b[0morder_2\u001b[0m\u001b[0;34m,\u001b[0m\u001b[0;36m3\u001b[0m\u001b[0;34m:\u001b[0m\u001b[0morder_3\u001b[0m\u001b[0;34m,\u001b[0m\u001b[0;36m4\u001b[0m\u001b[0;34m:\u001b[0m\u001b[0morder_1\u001b[0m\u001b[0;34m}\u001b[0m\u001b[0;34m\u001b[0m\u001b[0;34m\u001b[0m\u001b[0m\n",
      "\u001b[0;32m/opt/conda/lib/python3.7/site-packages/pandas/core/series.py\u001b[0m in \u001b[0;36m__getitem__\u001b[0;34m(self, key)\u001b[0m\n\u001b[1;32m    940\u001b[0m \u001b[0;34m\u001b[0m\u001b[0m\n\u001b[1;32m    941\u001b[0m         \u001b[0;32melif\u001b[0m \u001b[0mkey_is_scalar\u001b[0m\u001b[0;34m:\u001b[0m\u001b[0;34m\u001b[0m\u001b[0;34m\u001b[0m\u001b[0m\n\u001b[0;32m--> 942\u001b[0;31m             \u001b[0;32mreturn\u001b[0m \u001b[0mself\u001b[0m\u001b[0;34m.\u001b[0m\u001b[0m_get_value\u001b[0m\u001b[0;34m(\u001b[0m\u001b[0mkey\u001b[0m\u001b[0;34m)\u001b[0m\u001b[0;34m\u001b[0m\u001b[0;34m\u001b[0m\u001b[0m\n\u001b[0m\u001b[1;32m    943\u001b[0m \u001b[0;34m\u001b[0m\u001b[0m\n\u001b[1;32m    944\u001b[0m         \u001b[0;32mif\u001b[0m \u001b[0mis_hashable\u001b[0m\u001b[0;34m(\u001b[0m\u001b[0mkey\u001b[0m\u001b[0;34m)\u001b[0m\u001b[0;34m:\u001b[0m\u001b[0;34m\u001b[0m\u001b[0;34m\u001b[0m\u001b[0m\n",
      "\u001b[0;32m/opt/conda/lib/python3.7/site-packages/pandas/core/series.py\u001b[0m in \u001b[0;36m_get_value\u001b[0;34m(self, label, takeable)\u001b[0m\n\u001b[1;32m   1049\u001b[0m \u001b[0;34m\u001b[0m\u001b[0m\n\u001b[1;32m   1050\u001b[0m         \u001b[0;31m# Similar to Index.get_value, but we do not fall back to positional\u001b[0m\u001b[0;34m\u001b[0m\u001b[0;34m\u001b[0m\u001b[0;34m\u001b[0m\u001b[0m\n\u001b[0;32m-> 1051\u001b[0;31m         \u001b[0mloc\u001b[0m \u001b[0;34m=\u001b[0m \u001b[0mself\u001b[0m\u001b[0;34m.\u001b[0m\u001b[0mindex\u001b[0m\u001b[0;34m.\u001b[0m\u001b[0mget_loc\u001b[0m\u001b[0;34m(\u001b[0m\u001b[0mlabel\u001b[0m\u001b[0;34m)\u001b[0m\u001b[0;34m\u001b[0m\u001b[0;34m\u001b[0m\u001b[0m\n\u001b[0m\u001b[1;32m   1052\u001b[0m         \u001b[0;32mreturn\u001b[0m \u001b[0mself\u001b[0m\u001b[0;34m.\u001b[0m\u001b[0mindex\u001b[0m\u001b[0;34m.\u001b[0m\u001b[0m_get_values_for_loc\u001b[0m\u001b[0;34m(\u001b[0m\u001b[0mself\u001b[0m\u001b[0;34m,\u001b[0m \u001b[0mloc\u001b[0m\u001b[0;34m,\u001b[0m \u001b[0mlabel\u001b[0m\u001b[0;34m)\u001b[0m\u001b[0;34m\u001b[0m\u001b[0;34m\u001b[0m\u001b[0m\n\u001b[1;32m   1053\u001b[0m \u001b[0;34m\u001b[0m\u001b[0m\n",
      "\u001b[0;32m/opt/conda/lib/python3.7/site-packages/pandas/core/indexes/base.py\u001b[0m in \u001b[0;36mget_loc\u001b[0;34m(self, key, method, tolerance)\u001b[0m\n\u001b[1;32m   3361\u001b[0m                 \u001b[0;32mreturn\u001b[0m \u001b[0mself\u001b[0m\u001b[0;34m.\u001b[0m\u001b[0m_engine\u001b[0m\u001b[0;34m.\u001b[0m\u001b[0mget_loc\u001b[0m\u001b[0;34m(\u001b[0m\u001b[0mcasted_key\u001b[0m\u001b[0;34m)\u001b[0m\u001b[0;34m\u001b[0m\u001b[0;34m\u001b[0m\u001b[0m\n\u001b[1;32m   3362\u001b[0m             \u001b[0;32mexcept\u001b[0m \u001b[0mKeyError\u001b[0m \u001b[0;32mas\u001b[0m \u001b[0merr\u001b[0m\u001b[0;34m:\u001b[0m\u001b[0;34m\u001b[0m\u001b[0;34m\u001b[0m\u001b[0m\n\u001b[0;32m-> 3363\u001b[0;31m                 \u001b[0;32mraise\u001b[0m \u001b[0mKeyError\u001b[0m\u001b[0;34m(\u001b[0m\u001b[0mkey\u001b[0m\u001b[0;34m)\u001b[0m \u001b[0;32mfrom\u001b[0m \u001b[0merr\u001b[0m\u001b[0;34m\u001b[0m\u001b[0;34m\u001b[0m\u001b[0m\n\u001b[0m\u001b[1;32m   3364\u001b[0m \u001b[0;34m\u001b[0m\u001b[0m\n\u001b[1;32m   3365\u001b[0m         \u001b[0;32mif\u001b[0m \u001b[0mis_scalar\u001b[0m\u001b[0;34m(\u001b[0m\u001b[0mkey\u001b[0m\u001b[0;34m)\u001b[0m \u001b[0;32mand\u001b[0m \u001b[0misna\u001b[0m\u001b[0;34m(\u001b[0m\u001b[0mkey\u001b[0m\u001b[0;34m)\u001b[0m \u001b[0;32mand\u001b[0m \u001b[0;32mnot\u001b[0m \u001b[0mself\u001b[0m\u001b[0;34m.\u001b[0m\u001b[0mhasnans\u001b[0m\u001b[0;34m:\u001b[0m\u001b[0;34m\u001b[0m\u001b[0;34m\u001b[0m\u001b[0m\n",
      "\u001b[0;31mKeyError\u001b[0m: 2"
     ]
    }
   ],
   "source": [
    "from imblearn.under_sampling import RandomUnderSampler\n",
    "order_1 = train['order'].value_counts()[1]\n",
    "order_2 = train['order'].value_counts()[2]\n",
    "order_3 = train['order'].value_counts()[3]\n",
    "strategy = {1:order_1,2:order_2,3:order_3,4:order_1}\n",
    "rus = RandomUnderSampler(sampling_strategy = strategy,random_state=42)\n",
    "X_train_rus, y_train_rus = rus.fit_resample(X_train,y_train)"
   ]
  },
  {
   "cell_type": "code",
   "execution_count": 150,
   "metadata": {},
   "outputs": [],
   "source": [
    "from imblearn.under_sampling import RandomUnderSampler\n",
    "order_1 = train['order'].value_counts()[0]\n",
    "strategy = {0:order_1,1:order_1}\n",
    "rus = RandomUnderSampler(sampling_strategy = strategy,random_state=42)\n",
    "X_train_rus, y_train_rus = rus.fit_resample(X_train,y_train)"
   ]
  },
  {
   "cell_type": "code",
   "execution_count": 156,
   "metadata": {},
   "outputs": [],
   "source": [
    "from sklearn.metrics import roc_auc_score,roc_curve\n",
    "params = {\n",
    "    'min_samples_split': 300,\n",
    "    'random_state': 42,\n",
    "}\n",
    "rf = RandomForestClassifier(**params)\n",
    "rf.fit(X_train, y_train)\n",
    "y_pred_train = rf.predict_proba(X_train)[:,1]\n",
    "y_pred = rf.predict_proba(X_test)[:,1]"
   ]
  },
  {
   "cell_type": "code",
   "execution_count": 157,
   "metadata": {},
   "outputs": [
    {
     "name": "stdout",
     "output_type": "stream",
     "text": [
      "0.8093457625971561\n",
      "0.7680912760642773\n"
     ]
    }
   ],
   "source": [
    "print(roc_auc_score(y_train, y_pred_train))\n",
    "print(roc_auc_score(y_test, y_pred))"
   ]
  },
  {
   "cell_type": "code",
   "execution_count": 158,
   "metadata": {},
   "outputs": [
    {
     "data": {
      "text/html": [
       "<div>\n",
       "<style scoped>\n",
       "    .dataframe tbody tr th:only-of-type {\n",
       "        vertical-align: middle;\n",
       "    }\n",
       "\n",
       "    .dataframe tbody tr th {\n",
       "        vertical-align: top;\n",
       "    }\n",
       "\n",
       "    .dataframe thead th {\n",
       "        text-align: right;\n",
       "    }\n",
       "</style>\n",
       "<table border=\"1\" class=\"dataframe\">\n",
       "  <thead>\n",
       "    <tr style=\"text-align: right;\">\n",
       "      <th></th>\n",
       "      <th>features</th>\n",
       "      <th>importance</th>\n",
       "    </tr>\n",
       "  </thead>\n",
       "  <tbody>\n",
       "    <tr>\n",
       "      <th>10</th>\n",
       "      <td>position</td>\n",
       "      <td>0.291610</td>\n",
       "    </tr>\n",
       "    <tr>\n",
       "      <th>16</th>\n",
       "      <td>win_p</td>\n",
       "      <td>0.106460</td>\n",
       "    </tr>\n",
       "    <tr>\n",
       "      <th>1</th>\n",
       "      <td>place</td>\n",
       "      <td>0.094138</td>\n",
       "    </tr>\n",
       "    <tr>\n",
       "      <th>17</th>\n",
       "      <td>win_p_2</td>\n",
       "      <td>0.084047</td>\n",
       "    </tr>\n",
       "    <tr>\n",
       "      <th>5</th>\n",
       "      <td>type</td>\n",
       "      <td>0.065436</td>\n",
       "    </tr>\n",
       "    <tr>\n",
       "      <th>4</th>\n",
       "      <td>st_time</td>\n",
       "      <td>0.064179</td>\n",
       "    </tr>\n",
       "    <tr>\n",
       "      <th>15</th>\n",
       "      <td>class</td>\n",
       "      <td>0.046824</td>\n",
       "    </tr>\n",
       "    <tr>\n",
       "      <th>18</th>\n",
       "      <td>a_win_p</td>\n",
       "      <td>0.038145</td>\n",
       "    </tr>\n",
       "    <tr>\n",
       "      <th>2</th>\n",
       "      <td>round</td>\n",
       "      <td>0.028483</td>\n",
       "    </tr>\n",
       "    <tr>\n",
       "      <th>19</th>\n",
       "      <td>a_win_p_2</td>\n",
       "      <td>0.019969</td>\n",
       "    </tr>\n",
       "    <tr>\n",
       "      <th>21</th>\n",
       "      <td>motor_p_2</td>\n",
       "      <td>0.016575</td>\n",
       "    </tr>\n",
       "    <tr>\n",
       "      <th>3</th>\n",
       "      <td>display</td>\n",
       "      <td>0.014286</td>\n",
       "    </tr>\n",
       "    <tr>\n",
       "      <th>12</th>\n",
       "      <td>age</td>\n",
       "      <td>0.012925</td>\n",
       "    </tr>\n",
       "    <tr>\n",
       "      <th>22</th>\n",
       "      <td>boat</td>\n",
       "      <td>0.011216</td>\n",
       "    </tr>\n",
       "    <tr>\n",
       "      <th>11</th>\n",
       "      <td>name</td>\n",
       "      <td>0.010852</td>\n",
       "    </tr>\n",
       "    <tr>\n",
       "      <th>23</th>\n",
       "      <td>boat_p_2</td>\n",
       "      <td>0.010539</td>\n",
       "    </tr>\n",
       "    <tr>\n",
       "      <th>25</th>\n",
       "      <td>day_of_year</td>\n",
       "      <td>0.010079</td>\n",
       "    </tr>\n",
       "    <tr>\n",
       "      <th>7</th>\n",
       "      <td>wind</td>\n",
       "      <td>0.009938</td>\n",
       "    </tr>\n",
       "    <tr>\n",
       "      <th>20</th>\n",
       "      <td>motor</td>\n",
       "      <td>0.009918</td>\n",
       "    </tr>\n",
       "    <tr>\n",
       "      <th>27</th>\n",
       "      <td>day_of_year_sin</td>\n",
       "      <td>0.009327</td>\n",
       "    </tr>\n",
       "    <tr>\n",
       "      <th>26</th>\n",
       "      <td>day_of_year_cos</td>\n",
       "      <td>0.009255</td>\n",
       "    </tr>\n",
       "    <tr>\n",
       "      <th>9</th>\n",
       "      <td>wave</td>\n",
       "      <td>0.007408</td>\n",
       "    </tr>\n",
       "    <tr>\n",
       "      <th>14</th>\n",
       "      <td>weight</td>\n",
       "      <td>0.006600</td>\n",
       "    </tr>\n",
       "    <tr>\n",
       "      <th>24</th>\n",
       "      <td>day</td>\n",
       "      <td>0.005749</td>\n",
       "    </tr>\n",
       "    <tr>\n",
       "      <th>8</th>\n",
       "      <td>wind_strong</td>\n",
       "      <td>0.005495</td>\n",
       "    </tr>\n",
       "    <tr>\n",
       "      <th>13</th>\n",
       "      <td>area</td>\n",
       "      <td>0.005178</td>\n",
       "    </tr>\n",
       "    <tr>\n",
       "      <th>0</th>\n",
       "      <td>date</td>\n",
       "      <td>0.004026</td>\n",
       "    </tr>\n",
       "    <tr>\n",
       "      <th>6</th>\n",
       "      <td>weather</td>\n",
       "      <td>0.001343</td>\n",
       "    </tr>\n",
       "  </tbody>\n",
       "</table>\n",
       "</div>"
      ],
      "text/plain": [
       "           features  importance\n",
       "10         position    0.291610\n",
       "16            win_p    0.106460\n",
       "1             place    0.094138\n",
       "17          win_p_2    0.084047\n",
       "5              type    0.065436\n",
       "4           st_time    0.064179\n",
       "15            class    0.046824\n",
       "18          a_win_p    0.038145\n",
       "2             round    0.028483\n",
       "19        a_win_p_2    0.019969\n",
       "21        motor_p_2    0.016575\n",
       "3           display    0.014286\n",
       "12              age    0.012925\n",
       "22             boat    0.011216\n",
       "11             name    0.010852\n",
       "23         boat_p_2    0.010539\n",
       "25      day_of_year    0.010079\n",
       "7              wind    0.009938\n",
       "20            motor    0.009918\n",
       "27  day_of_year_sin    0.009327\n",
       "26  day_of_year_cos    0.009255\n",
       "9              wave    0.007408\n",
       "14           weight    0.006600\n",
       "24              day    0.005749\n",
       "8       wind_strong    0.005495\n",
       "13             area    0.005178\n",
       "0              date    0.004026\n",
       "6           weather    0.001343"
      ]
     },
     "execution_count": 158,
     "metadata": {},
     "output_type": "execute_result"
    }
   ],
   "source": [
    "importances = pd.DataFrame({'features':X_train.columns, 'importance':rf.feature_importances_})\n",
    "importances.sort_values('importance',ascending=False)\n"
   ]
  },
  {
   "cell_type": "code",
   "execution_count": 169,
   "metadata": {},
   "outputs": [],
   "source": [
    "import lightgbm as lgb\n",
    "model = lgb.LGBMClassifier()\n",
    "model.fit(X_train, y_train)\n",
    "y_pred = model.predict(X_test)\n",
    "y_pred_prob = model.predict_proba(X_test)"
   ]
  },
  {
   "cell_type": "code",
   "execution_count": 170,
   "metadata": {},
   "outputs": [
    {
     "data": {
      "text/html": [
       "<div>\n",
       "<style scoped>\n",
       "    .dataframe tbody tr th:only-of-type {\n",
       "        vertical-align: middle;\n",
       "    }\n",
       "\n",
       "    .dataframe tbody tr th {\n",
       "        vertical-align: top;\n",
       "    }\n",
       "\n",
       "    .dataframe thead th {\n",
       "        text-align: right;\n",
       "    }\n",
       "</style>\n",
       "<table border=\"1\" class=\"dataframe\">\n",
       "  <thead>\n",
       "    <tr style=\"text-align: right;\">\n",
       "      <th></th>\n",
       "      <th>target</th>\n",
       "      <th>target_pred</th>\n",
       "    </tr>\n",
       "  </thead>\n",
       "  <tbody>\n",
       "    <tr>\n",
       "      <th>1195663</th>\n",
       "      <td>1</td>\n",
       "      <td>1</td>\n",
       "    </tr>\n",
       "    <tr>\n",
       "      <th>1195888</th>\n",
       "      <td>1</td>\n",
       "      <td>1</td>\n",
       "    </tr>\n",
       "    <tr>\n",
       "      <th>1195887</th>\n",
       "      <td>1</td>\n",
       "      <td>1</td>\n",
       "    </tr>\n",
       "    <tr>\n",
       "      <th>1195886</th>\n",
       "      <td>0</td>\n",
       "      <td>1</td>\n",
       "    </tr>\n",
       "    <tr>\n",
       "      <th>1195885</th>\n",
       "      <td>1</td>\n",
       "      <td>1</td>\n",
       "    </tr>\n",
       "    <tr>\n",
       "      <th>...</th>\n",
       "      <td>...</td>\n",
       "      <td>...</td>\n",
       "    </tr>\n",
       "    <tr>\n",
       "      <th>1127112</th>\n",
       "      <td>1</td>\n",
       "      <td>1</td>\n",
       "    </tr>\n",
       "    <tr>\n",
       "      <th>1127111</th>\n",
       "      <td>1</td>\n",
       "      <td>0</td>\n",
       "    </tr>\n",
       "    <tr>\n",
       "      <th>1127110</th>\n",
       "      <td>1</td>\n",
       "      <td>1</td>\n",
       "    </tr>\n",
       "    <tr>\n",
       "      <th>1127138</th>\n",
       "      <td>0</td>\n",
       "      <td>0</td>\n",
       "    </tr>\n",
       "    <tr>\n",
       "      <th>1127602</th>\n",
       "      <td>1</td>\n",
       "      <td>1</td>\n",
       "    </tr>\n",
       "  </tbody>\n",
       "</table>\n",
       "<p>389408 rows × 2 columns</p>\n",
       "</div>"
      ],
      "text/plain": [
       "         target  target_pred\n",
       "1195663       1            1\n",
       "1195888       1            1\n",
       "1195887       1            1\n",
       "1195886       0            1\n",
       "1195885       1            1\n",
       "...         ...          ...\n",
       "1127112       1            1\n",
       "1127111       1            0\n",
       "1127110       1            1\n",
       "1127138       0            0\n",
       "1127602       1            1\n",
       "\n",
       "[389408 rows x 2 columns]"
      ]
     },
     "metadata": {},
     "output_type": "display_data"
    },
    {
     "data": {
      "text/html": [
       "<div>\n",
       "<style scoped>\n",
       "    .dataframe tbody tr th:only-of-type {\n",
       "        vertical-align: middle;\n",
       "    }\n",
       "\n",
       "    .dataframe tbody tr th {\n",
       "        vertical-align: top;\n",
       "    }\n",
       "\n",
       "    .dataframe thead th {\n",
       "        text-align: right;\n",
       "    }\n",
       "</style>\n",
       "<table border=\"1\" class=\"dataframe\">\n",
       "  <thead>\n",
       "    <tr style=\"text-align: right;\">\n",
       "      <th></th>\n",
       "      <th>target</th>\n",
       "      <th>target0_prob</th>\n",
       "      <th>target1_prob</th>\n",
       "    </tr>\n",
       "  </thead>\n",
       "  <tbody>\n",
       "    <tr>\n",
       "      <th>1195663</th>\n",
       "      <td>1</td>\n",
       "      <td>0.303534</td>\n",
       "      <td>0.696466</td>\n",
       "    </tr>\n",
       "    <tr>\n",
       "      <th>1195888</th>\n",
       "      <td>1</td>\n",
       "      <td>0.200477</td>\n",
       "      <td>0.799523</td>\n",
       "    </tr>\n",
       "    <tr>\n",
       "      <th>1195887</th>\n",
       "      <td>1</td>\n",
       "      <td>0.101944</td>\n",
       "      <td>0.898056</td>\n",
       "    </tr>\n",
       "    <tr>\n",
       "      <th>1195886</th>\n",
       "      <td>0</td>\n",
       "      <td>0.364534</td>\n",
       "      <td>0.635466</td>\n",
       "    </tr>\n",
       "    <tr>\n",
       "      <th>1195885</th>\n",
       "      <td>1</td>\n",
       "      <td>0.155818</td>\n",
       "      <td>0.844182</td>\n",
       "    </tr>\n",
       "    <tr>\n",
       "      <th>...</th>\n",
       "      <td>...</td>\n",
       "      <td>...</td>\n",
       "      <td>...</td>\n",
       "    </tr>\n",
       "    <tr>\n",
       "      <th>1127112</th>\n",
       "      <td>1</td>\n",
       "      <td>0.359658</td>\n",
       "      <td>0.640342</td>\n",
       "    </tr>\n",
       "    <tr>\n",
       "      <th>1127111</th>\n",
       "      <td>1</td>\n",
       "      <td>0.576102</td>\n",
       "      <td>0.423898</td>\n",
       "    </tr>\n",
       "    <tr>\n",
       "      <th>1127110</th>\n",
       "      <td>1</td>\n",
       "      <td>0.002887</td>\n",
       "      <td>0.997113</td>\n",
       "    </tr>\n",
       "    <tr>\n",
       "      <th>1127138</th>\n",
       "      <td>0</td>\n",
       "      <td>0.539763</td>\n",
       "      <td>0.460237</td>\n",
       "    </tr>\n",
       "    <tr>\n",
       "      <th>1127602</th>\n",
       "      <td>1</td>\n",
       "      <td>0.307366</td>\n",
       "      <td>0.692634</td>\n",
       "    </tr>\n",
       "  </tbody>\n",
       "</table>\n",
       "<p>389408 rows × 3 columns</p>\n",
       "</div>"
      ],
      "text/plain": [
       "         target  target0_prob  target1_prob\n",
       "1195663       1      0.303534      0.696466\n",
       "1195888       1      0.200477      0.799523\n",
       "1195887       1      0.101944      0.898056\n",
       "1195886       0      0.364534      0.635466\n",
       "1195885       1      0.155818      0.844182\n",
       "...         ...           ...           ...\n",
       "1127112       1      0.359658      0.640342\n",
       "1127111       1      0.576102      0.423898\n",
       "1127110       1      0.002887      0.997113\n",
       "1127138       0      0.539763      0.460237\n",
       "1127602       1      0.307366      0.692634\n",
       "\n",
       "[389408 rows x 3 columns]"
      ]
     },
     "metadata": {},
     "output_type": "display_data"
    }
   ],
   "source": [
    "df_pred = pd.DataFrame({'target':y_test,'target_pred':y_pred})\n",
    "display(df_pred)\n",
    "\n",
    "# 真値と予測確率の表示\n",
    "df_pred_prob = pd.DataFrame({'target':y_test, 'target0_prob':y_pred_prob[:,0], 'target1_prob':y_pred_prob[:,1]})\n",
    "display(df_pred_prob)"
   ]
  },
  {
   "cell_type": "code",
   "execution_count": 172,
   "metadata": {},
   "outputs": [
    {
     "name": "stdout",
     "output_type": "stream",
     "text": [
      "Acc : 0.7348513641219492\n",
      "logloss : 0.5094112920872816\n",
      "AUC : 0.7810496678954698\n"
     ]
    }
   ],
   "source": [
    "from sklearn.metrics import accuracy_score # モデル評価用(正答率)\n",
    "from sklearn.metrics import log_loss # モデル評価用(logloss)     \n",
    "from sklearn.metrics import roc_auc_score # モデル評価用(auc)\n",
    "# モデル評価\n",
    "# acc : 正答率\n",
    "acc = accuracy_score(y_test,y_pred)\n",
    "print('Acc :', acc)\n",
    "\n",
    "# logloss \n",
    "logloss =  log_loss(y_test,y_pred_prob) # 引数 : log_loss(正解クラス,[クラス0の予測確率,クラス1の予測確率])\n",
    "print('logloss :', logloss)\n",
    "\n",
    "# AUC \n",
    "auc = roc_auc_score(y_test,y_pred_prob[:,1]) # 引数 : roc_auc_score(正解クラス, クラス1の予測確率)\n",
    "print('AUC :', auc) "
   ]
  },
  {
   "cell_type": "code",
   "execution_count": 174,
   "metadata": {},
   "outputs": [
    {
     "data": {
      "image/png": "[encoded data removed]",
      "text/plain": [
       "<Figure size 640x480 with 1 Axes>"
      ]
     },
     "metadata": {},
     "output_type": "display_data"
    }
   ],
   "source": [
    "import pandas as pd # 基本ライブラリ\n",
    "import numpy as np # 基本ライブラリ\n",
    "import matplotlib.pyplot as plt # グラフ描画用\n",
    "import seaborn as sns; sns.set() # グラフ描画用\n",
    "# ROC曲線の描画\n",
    "# cf : https://tips-memo.com/python-roc\n",
    "from sklearn import metrics\n",
    "from sklearn.metrics import roc_curve\n",
    "\n",
    "fpr, tpr, thresholds = roc_curve(y_test,y_pred_prob[:,1])\n",
    "auc = metrics.auc(fpr, tpr)\n",
    "plt.plot(fpr, tpr, label='ROC curve (area = %.2f)'%auc)\n",
    "plt.legend()\n",
    "plt.xlabel('FPR: False positive rate')\n",
    "plt.ylabel('TPR: True positive rate')\n",
    "plt.grid()\n",
    "plt.show()"
   ]
  },
  {
   "cell_type": "code",
   "execution_count": 175,
   "metadata": {},
   "outputs": [
    {
     "name": "stderr",
     "output_type": "stream",
     "text": [
      "/opt/conda/lib/python3.7/site-packages/lightgbm/engine.py:177: UserWarning: Found `num_iteration` in params. Will use it instead of argument\n",
      "  _log_warning(f\"Found `{alias}` in params. Will use it instead of argument\")\n",
      "/opt/conda/lib/python3.7/site-packages/lightgbm/engine.py:181: UserWarning: 'early_stopping_rounds' argument is deprecated and will be removed in a future release of LightGBM. Pass 'early_stopping()' callback via 'callbacks' argument instead.\n",
      "  _log_warning(\"'early_stopping_rounds' argument is deprecated and will be removed in a future release of LightGBM. \"\n"
     ]
    },
    {
     "name": "stdout",
     "output_type": "stream",
     "text": [
      "[LightGBM] [Warning] Auto-choosing col-wise multi-threading, the overhead of testing was 0.203396 seconds.\n",
      "You can set `force_col_wise=true` to remove the overhead.\n",
      "[1]\tvalid_0's binary_error: 0.33375\n",
      "Training until validation scores don't improve for 100 rounds\n",
      "[2]\tvalid_0's binary_error: 0.33375\n",
      "[3]\tvalid_0's binary_error: 0.33375\n",
      "[4]\tvalid_0's binary_error: 0.326688\n",
      "[5]\tvalid_0's binary_error: 0.324814\n",
      "[6]\tvalid_0's binary_error: 0.310872\n",
      "[7]\tvalid_0's binary_error: 0.30494\n",
      "[8]\tvalid_0's binary_error: 0.301766\n",
      "[9]\tvalid_0's binary_error: 0.29673\n",
      "[10]\tvalid_0's binary_error: 0.292385\n",
      "[11]\tvalid_0's binary_error: 0.289927\n",
      "[12]\tvalid_0's binary_error: 0.287269\n",
      "[13]\tvalid_0's binary_error: 0.285138\n",
      "[14]\tvalid_0's binary_error: 0.282252\n",
      "[15]\tvalid_0's binary_error: 0.280605\n",
      "[16]\tvalid_0's binary_error: 0.278816\n",
      "[17]\tvalid_0's binary_error: 0.277709\n",
      "[18]\tvalid_0's binary_error: 0.276679\n",
      "[19]\tvalid_0's binary_error: 0.276263\n",
      "[20]\tvalid_0's binary_error: 0.275362\n",
      "[21]\tvalid_0's binary_error: 0.27406\n",
      "[22]\tvalid_0's binary_error: 0.2735\n",
      "[23]\tvalid_0's binary_error: 0.272904\n",
      "[24]\tvalid_0's binary_error: 0.27229\n",
      "[25]\tvalid_0's binary_error: 0.271656\n",
      "[26]\tvalid_0's binary_error: 0.27125\n",
      "[27]\tvalid_0's binary_error: 0.270385\n",
      "[28]\tvalid_0's binary_error: 0.270079\n",
      "[29]\tvalid_0's binary_error: 0.26964\n",
      "[30]\tvalid_0's binary_error: 0.269453\n",
      "[31]\tvalid_0's binary_error: 0.269152\n",
      "[32]\tvalid_0's binary_error: 0.268913\n",
      "[33]\tvalid_0's binary_error: 0.268875\n",
      "[34]\tvalid_0's binary_error: 0.268387\n",
      "[35]\tvalid_0's binary_error: 0.268181\n",
      "[36]\tvalid_0's binary_error: 0.268009\n",
      "[37]\tvalid_0's binary_error: 0.267783\n",
      "[38]\tvalid_0's binary_error: 0.267701\n",
      "[39]\tvalid_0's binary_error: 0.267622\n",
      "[40]\tvalid_0's binary_error: 0.267668\n",
      "[41]\tvalid_0's binary_error: 0.267593\n",
      "[42]\tvalid_0's binary_error: 0.267316\n",
      "[43]\tvalid_0's binary_error: 0.267347\n",
      "[44]\tvalid_0's binary_error: 0.267141\n",
      "[45]\tvalid_0's binary_error: 0.267121\n",
      "[46]\tvalid_0's binary_error: 0.266959\n",
      "[47]\tvalid_0's binary_error: 0.266977\n",
      "[48]\tvalid_0's binary_error: 0.26689\n",
      "[49]\tvalid_0's binary_error: 0.266784\n",
      "[50]\tvalid_0's binary_error: 0.266782\n",
      "[51]\tvalid_0's binary_error: 0.266792\n",
      "[52]\tvalid_0's binary_error: 0.266705\n",
      "[53]\tvalid_0's binary_error: 0.266669\n",
      "[54]\tvalid_0's binary_error: 0.266594\n",
      "[55]\tvalid_0's binary_error: 0.26653\n",
      "[56]\tvalid_0's binary_error: 0.266471\n",
      "[57]\tvalid_0's binary_error: 0.266484\n",
      "[58]\tvalid_0's binary_error: 0.266361\n",
      "[59]\tvalid_0's binary_error: 0.266368\n",
      "[60]\tvalid_0's binary_error: 0.266358\n",
      "[61]\tvalid_0's binary_error: 0.266268\n",
      "[62]\tvalid_0's binary_error: 0.266212\n",
      "[63]\tvalid_0's binary_error: 0.266199\n",
      "[64]\tvalid_0's binary_error: 0.26613\n",
      "[65]\tvalid_0's binary_error: 0.266145\n",
      "[66]\tvalid_0's binary_error: 0.26604\n",
      "[67]\tvalid_0's binary_error: 0.265937\n",
      "[68]\tvalid_0's binary_error: 0.265919\n",
      "[69]\tvalid_0's binary_error: 0.265945\n",
      "[70]\tvalid_0's binary_error: 0.265955\n",
      "[71]\tvalid_0's binary_error: 0.265868\n",
      "[72]\tvalid_0's binary_error: 0.265922\n",
      "[73]\tvalid_0's binary_error: 0.265886\n",
      "[74]\tvalid_0's binary_error: 0.265863\n",
      "[75]\tvalid_0's binary_error: 0.265744\n",
      "[76]\tvalid_0's binary_error: 0.265842\n",
      "[77]\tvalid_0's binary_error: 0.265845\n",
      "[78]\tvalid_0's binary_error: 0.265742\n",
      "[79]\tvalid_0's binary_error: 0.265793\n",
      "[80]\tvalid_0's binary_error: 0.265803\n",
      "[81]\tvalid_0's binary_error: 0.265768\n",
      "[82]\tvalid_0's binary_error: 0.265716\n",
      "[83]\tvalid_0's binary_error: 0.265647\n",
      "[84]\tvalid_0's binary_error: 0.265665\n",
      "[85]\tvalid_0's binary_error: 0.265621\n",
      "[86]\tvalid_0's binary_error: 0.265624\n",
      "[87]\tvalid_0's binary_error: 0.265562\n",
      "[88]\tvalid_0's binary_error: 0.265521\n",
      "[89]\tvalid_0's binary_error: 0.265554\n",
      "[90]\tvalid_0's binary_error: 0.265449\n",
      "[91]\tvalid_0's binary_error: 0.265408\n",
      "[92]\tvalid_0's binary_error: 0.265493\n",
      "[93]\tvalid_0's binary_error: 0.265562\n",
      "[94]\tvalid_0's binary_error: 0.265554\n",
      "[95]\tvalid_0's binary_error: 0.265526\n",
      "[96]\tvalid_0's binary_error: 0.265485\n",
      "[97]\tvalid_0's binary_error: 0.265439\n",
      "[98]\tvalid_0's binary_error: 0.265475\n",
      "[99]\tvalid_0's binary_error: 0.265434\n",
      "[100]\tvalid_0's binary_error: 0.265354\n",
      "[101]\tvalid_0's binary_error: 0.265269\n",
      "[102]\tvalid_0's binary_error: 0.265305\n",
      "[103]\tvalid_0's binary_error: 0.265213\n",
      "[104]\tvalid_0's binary_error: 0.265192\n",
      "[105]\tvalid_0's binary_error: 0.265197\n",
      "[106]\tvalid_0's binary_error: 0.265185\n",
      "[107]\tvalid_0's binary_error: 0.265239\n",
      "[108]\tvalid_0's binary_error: 0.265203\n",
      "[109]\tvalid_0's binary_error: 0.265167\n",
      "[110]\tvalid_0's binary_error: 0.265233\n",
      "[111]\tvalid_0's binary_error: 0.26519\n",
      "[112]\tvalid_0's binary_error: 0.265208\n",
      "[113]\tvalid_0's binary_error: 0.265187\n",
      "[114]\tvalid_0's binary_error: 0.265177\n",
      "[115]\tvalid_0's binary_error: 0.265072\n",
      "[116]\tvalid_0's binary_error: 0.265131\n",
      "[117]\tvalid_0's binary_error: 0.265136\n",
      "[118]\tvalid_0's binary_error: 0.2652\n",
      "[119]\tvalid_0's binary_error: 0.265131\n",
      "[120]\tvalid_0's binary_error: 0.265131\n",
      "[121]\tvalid_0's binary_error: 0.265172\n",
      "[122]\tvalid_0's binary_error: 0.265159\n",
      "[123]\tvalid_0's binary_error: 0.265159\n",
      "[124]\tvalid_0's binary_error: 0.265169\n",
      "[125]\tvalid_0's binary_error: 0.265174\n",
      "[126]\tvalid_0's binary_error: 0.265164\n",
      "[127]\tvalid_0's binary_error: 0.265169\n",
      "[128]\tvalid_0's binary_error: 0.265185\n",
      "[129]\tvalid_0's binary_error: 0.265208\n",
      "[130]\tvalid_0's binary_error: 0.265233\n",
      "[131]\tvalid_0's binary_error: 0.26519\n",
      "[132]\tvalid_0's binary_error: 0.265177\n",
      "[133]\tvalid_0's binary_error: 0.265185\n",
      "[134]\tvalid_0's binary_error: 0.265156\n",
      "[135]\tvalid_0's binary_error: 0.265156\n",
      "[136]\tvalid_0's binary_error: 0.265143\n",
      "[137]\tvalid_0's binary_error: 0.265123\n",
      "[138]\tvalid_0's binary_error: 0.265203\n",
      "[139]\tvalid_0's binary_error: 0.2652\n",
      "[140]\tvalid_0's binary_error: 0.265205\n",
      "[141]\tvalid_0's binary_error: 0.265197\n",
      "[142]\tvalid_0's binary_error: 0.265208\n",
      "[143]\tvalid_0's binary_error: 0.265226\n",
      "[144]\tvalid_0's binary_error: 0.265143\n",
      "[145]\tvalid_0's binary_error: 0.265128\n",
      "[146]\tvalid_0's binary_error: 0.265177\n",
      "[147]\tvalid_0's binary_error: 0.265159\n",
      "[148]\tvalid_0's binary_error: 0.265128\n",
      "[149]\tvalid_0's binary_error: 0.265105\n",
      "[150]\tvalid_0's binary_error: 0.265108\n",
      "[151]\tvalid_0's binary_error: 0.265133\n",
      "[152]\tvalid_0's binary_error: 0.265133\n",
      "[153]\tvalid_0's binary_error: 0.265169\n",
      "[154]\tvalid_0's binary_error: 0.265138\n",
      "[155]\tvalid_0's binary_error: 0.265192\n",
      "[156]\tvalid_0's binary_error: 0.26521\n",
      "[157]\tvalid_0's binary_error: 0.2652\n",
      "[158]\tvalid_0's binary_error: 0.26519\n",
      "[159]\tvalid_0's binary_error: 0.265156\n",
      "[160]\tvalid_0's binary_error: 0.265182\n",
      "[161]\tvalid_0's binary_error: 0.26521\n",
      "[162]\tvalid_0's binary_error: 0.26521\n",
      "[163]\tvalid_0's binary_error: 0.2652\n",
      "[164]\tvalid_0's binary_error: 0.265174\n",
      "[165]\tvalid_0's binary_error: 0.265177\n",
      "[166]\tvalid_0's binary_error: 0.265213\n",
      "[167]\tvalid_0's binary_error: 0.265241\n",
      "[168]\tvalid_0's binary_error: 0.265218\n",
      "[169]\tvalid_0's binary_error: 0.2652\n",
      "[170]\tvalid_0's binary_error: 0.265197\n",
      "[171]\tvalid_0's binary_error: 0.26521\n",
      "[172]\tvalid_0's binary_error: 0.265208\n",
      "[173]\tvalid_0's binary_error: 0.265215\n",
      "[174]\tvalid_0's binary_error: 0.265218\n",
      "[175]\tvalid_0's binary_error: 0.265215\n",
      "[176]\tvalid_0's binary_error: 0.265221\n",
      "[177]\tvalid_0's binary_error: 0.2652\n",
      "[178]\tvalid_0's binary_error: 0.265215\n",
      "[179]\tvalid_0's binary_error: 0.265213\n",
      "[180]\tvalid_0's binary_error: 0.265195\n",
      "[181]\tvalid_0's binary_error: 0.265226\n",
      "[182]\tvalid_0's binary_error: 0.265223\n",
      "[183]\tvalid_0's binary_error: 0.265221\n",
      "[184]\tvalid_0's binary_error: 0.265221\n",
      "[185]\tvalid_0's binary_error: 0.265179\n",
      "[186]\tvalid_0's binary_error: 0.26521\n",
      "[187]\tvalid_0's binary_error: 0.265172\n",
      "[188]\tvalid_0's binary_error: 0.265185\n",
      "[189]\tvalid_0's binary_error: 0.26519\n",
      "[190]\tvalid_0's binary_error: 0.26519\n",
      "[191]\tvalid_0's binary_error: 0.265167\n",
      "[192]\tvalid_0's binary_error: 0.265167\n",
      "[193]\tvalid_0's binary_error: 0.265172\n",
      "[194]\tvalid_0's binary_error: 0.265161\n",
      "[195]\tvalid_0's binary_error: 0.265118\n",
      "[196]\tvalid_0's binary_error: 0.265115\n",
      "[197]\tvalid_0's binary_error: 0.265118\n",
      "[198]\tvalid_0's binary_error: 0.265154\n",
      "[199]\tvalid_0's binary_error: 0.265154\n",
      "[200]\tvalid_0's binary_error: 0.265161\n",
      "[201]\tvalid_0's binary_error: 0.265167\n",
      "[202]\tvalid_0's binary_error: 0.265185\n",
      "[203]\tvalid_0's binary_error: 0.265141\n",
      "[204]\tvalid_0's binary_error: 0.265143\n",
      "[205]\tvalid_0's binary_error: 0.265182\n",
      "[206]\tvalid_0's binary_error: 0.265128\n",
      "[207]\tvalid_0's binary_error: 0.265136\n",
      "[208]\tvalid_0's binary_error: 0.265172\n",
      "[209]\tvalid_0's binary_error: 0.265213\n",
      "[210]\tvalid_0's binary_error: 0.265149\n",
      "[211]\tvalid_0's binary_error: 0.265131\n",
      "[212]\tvalid_0's binary_error: 0.265141\n",
      "[213]\tvalid_0's binary_error: 0.265131\n",
      "[214]\tvalid_0's binary_error: 0.265118\n",
      "[215]\tvalid_0's binary_error: 0.265113\n",
      "Early stopping, best iteration is:\n",
      "[115]\tvalid_0's binary_error: 0.265072\n"
     ]
    }
   ],
   "source": [
    "# 学習に使用するデータを設定\n",
    "lgb_train = lgb.Dataset(X_train, y_train)\n",
    "lgb_eval = lgb.Dataset(X_test, y_test, reference=lgb_train)\n",
    "\n",
    "# LightGBM parameters\n",
    "params = {\n",
    "        'task': 'train',\n",
    "        'boosting_type': 'gbdt',\n",
    "        'objective': 'binary', # 目的 : 2値分類 \n",
    "        'metric': {'binary_error'}, # 評価指標 : 誤り率(= 1-正答率) \n",
    "        #他には 'binary_logloss','auc'など\n",
    "        'learning_rate': 0.1,\n",
    "        'num_leaves': 23,\n",
    "        'min_data_in_leaf': 1,\n",
    "        'num_iteration': 1000, #1000回学習\n",
    "        'verbose': 0\n",
    "}\n",
    "\n",
    "# モデルの学習\n",
    "model = lgb.train(params, # パラメータ\n",
    "            train_set=lgb_train, # トレーニングデータの指定\n",
    "            valid_sets=lgb_eval, # 検証データの指定\n",
    "            early_stopping_rounds=100 # 100回ごとに検証精度の改善を検討　→ 精度が改善しないなら学習を終了(過学習に陥るのを防ぐ)\n",
    "               )\n",
    "\n",
    "# テストデータの予測 (クラス1の予測確率(クラス1である確率)を返す)\n",
    "y_pred_prob = model.predict(X_test)\n",
    "# テストデータの予測\n",
    "y_pred = np.where(y_pred_prob < 0.5, 0, 1) # 0.5より小さい場合0 ,そうでない場合1を返す"
   ]
  },
  {
   "cell_type": "code",
   "execution_count": 176,
   "metadata": {},
   "outputs": [
    {
     "data": {
      "text/html": [
       "<div>\n",
       "<style scoped>\n",
       "    .dataframe tbody tr th:only-of-type {\n",
       "        vertical-align: middle;\n",
       "    }\n",
       "\n",
       "    .dataframe tbody tr th {\n",
       "        vertical-align: top;\n",
       "    }\n",
       "\n",
       "    .dataframe thead th {\n",
       "        text-align: right;\n",
       "    }\n",
       "</style>\n",
       "<table border=\"1\" class=\"dataframe\">\n",
       "  <thead>\n",
       "    <tr style=\"text-align: right;\">\n",
       "      <th></th>\n",
       "      <th>target</th>\n",
       "      <th>target_pred</th>\n",
       "    </tr>\n",
       "  </thead>\n",
       "  <tbody>\n",
       "    <tr>\n",
       "      <th>1195663</th>\n",
       "      <td>1</td>\n",
       "      <td>1</td>\n",
       "    </tr>\n",
       "    <tr>\n",
       "      <th>1195888</th>\n",
       "      <td>1</td>\n",
       "      <td>1</td>\n",
       "    </tr>\n",
       "    <tr>\n",
       "      <th>1195887</th>\n",
       "      <td>1</td>\n",
       "      <td>1</td>\n",
       "    </tr>\n",
       "    <tr>\n",
       "      <th>1195886</th>\n",
       "      <td>0</td>\n",
       "      <td>1</td>\n",
       "    </tr>\n",
       "    <tr>\n",
       "      <th>1195885</th>\n",
       "      <td>1</td>\n",
       "      <td>1</td>\n",
       "    </tr>\n",
       "    <tr>\n",
       "      <th>...</th>\n",
       "      <td>...</td>\n",
       "      <td>...</td>\n",
       "    </tr>\n",
       "    <tr>\n",
       "      <th>1127112</th>\n",
       "      <td>1</td>\n",
       "      <td>1</td>\n",
       "    </tr>\n",
       "    <tr>\n",
       "      <th>1127111</th>\n",
       "      <td>1</td>\n",
       "      <td>0</td>\n",
       "    </tr>\n",
       "    <tr>\n",
       "      <th>1127110</th>\n",
       "      <td>1</td>\n",
       "      <td>1</td>\n",
       "    </tr>\n",
       "    <tr>\n",
       "      <th>1127138</th>\n",
       "      <td>0</td>\n",
       "      <td>0</td>\n",
       "    </tr>\n",
       "    <tr>\n",
       "      <th>1127602</th>\n",
       "      <td>1</td>\n",
       "      <td>1</td>\n",
       "    </tr>\n",
       "  </tbody>\n",
       "</table>\n",
       "<p>389408 rows × 2 columns</p>\n",
       "</div>"
      ],
      "text/plain": [
       "         target  target_pred\n",
       "1195663       1            1\n",
       "1195888       1            1\n",
       "1195887       1            1\n",
       "1195886       0            1\n",
       "1195885       1            1\n",
       "...         ...          ...\n",
       "1127112       1            1\n",
       "1127111       1            0\n",
       "1127110       1            1\n",
       "1127138       0            0\n",
       "1127602       1            1\n",
       "\n",
       "[389408 rows x 2 columns]"
      ]
     },
     "metadata": {},
     "output_type": "display_data"
    },
    {
     "data": {
      "text/html": [
       "<div>\n",
       "<style scoped>\n",
       "    .dataframe tbody tr th:only-of-type {\n",
       "        vertical-align: middle;\n",
       "    }\n",
       "\n",
       "    .dataframe tbody tr th {\n",
       "        vertical-align: top;\n",
       "    }\n",
       "\n",
       "    .dataframe thead th {\n",
       "        text-align: right;\n",
       "    }\n",
       "</style>\n",
       "<table border=\"1\" class=\"dataframe\">\n",
       "  <thead>\n",
       "    <tr style=\"text-align: right;\">\n",
       "      <th></th>\n",
       "      <th>target</th>\n",
       "      <th>target0_prob</th>\n",
       "      <th>target1_prob</th>\n",
       "    </tr>\n",
       "  </thead>\n",
       "  <tbody>\n",
       "    <tr>\n",
       "      <th>1195663</th>\n",
       "      <td>1</td>\n",
       "      <td>0.274940</td>\n",
       "      <td>0.725060</td>\n",
       "    </tr>\n",
       "    <tr>\n",
       "      <th>1195888</th>\n",
       "      <td>1</td>\n",
       "      <td>0.209755</td>\n",
       "      <td>0.790245</td>\n",
       "    </tr>\n",
       "    <tr>\n",
       "      <th>1195887</th>\n",
       "      <td>1</td>\n",
       "      <td>0.097386</td>\n",
       "      <td>0.902614</td>\n",
       "    </tr>\n",
       "    <tr>\n",
       "      <th>1195886</th>\n",
       "      <td>0</td>\n",
       "      <td>0.349713</td>\n",
       "      <td>0.650287</td>\n",
       "    </tr>\n",
       "    <tr>\n",
       "      <th>1195885</th>\n",
       "      <td>1</td>\n",
       "      <td>0.156439</td>\n",
       "      <td>0.843561</td>\n",
       "    </tr>\n",
       "    <tr>\n",
       "      <th>...</th>\n",
       "      <td>...</td>\n",
       "      <td>...</td>\n",
       "      <td>...</td>\n",
       "    </tr>\n",
       "    <tr>\n",
       "      <th>1127112</th>\n",
       "      <td>1</td>\n",
       "      <td>0.347682</td>\n",
       "      <td>0.652318</td>\n",
       "    </tr>\n",
       "    <tr>\n",
       "      <th>1127111</th>\n",
       "      <td>1</td>\n",
       "      <td>0.555648</td>\n",
       "      <td>0.444352</td>\n",
       "    </tr>\n",
       "    <tr>\n",
       "      <th>1127110</th>\n",
       "      <td>1</td>\n",
       "      <td>0.001924</td>\n",
       "      <td>0.998076</td>\n",
       "    </tr>\n",
       "    <tr>\n",
       "      <th>1127138</th>\n",
       "      <td>0</td>\n",
       "      <td>0.509605</td>\n",
       "      <td>0.490395</td>\n",
       "    </tr>\n",
       "    <tr>\n",
       "      <th>1127602</th>\n",
       "      <td>1</td>\n",
       "      <td>0.283570</td>\n",
       "      <td>0.716430</td>\n",
       "    </tr>\n",
       "  </tbody>\n",
       "</table>\n",
       "<p>389408 rows × 3 columns</p>\n",
       "</div>"
      ],
      "text/plain": [
       "         target  target0_prob  target1_prob\n",
       "1195663       1      0.274940      0.725060\n",
       "1195888       1      0.209755      0.790245\n",
       "1195887       1      0.097386      0.902614\n",
       "1195886       0      0.349713      0.650287\n",
       "1195885       1      0.156439      0.843561\n",
       "...         ...           ...           ...\n",
       "1127112       1      0.347682      0.652318\n",
       "1127111       1      0.555648      0.444352\n",
       "1127110       1      0.001924      0.998076\n",
       "1127138       0      0.509605      0.490395\n",
       "1127602       1      0.283570      0.716430\n",
       "\n",
       "[389408 rows x 3 columns]"
      ]
     },
     "metadata": {},
     "output_type": "display_data"
    }
   ],
   "source": [
    "# 真値と予測値の表示\n",
    "df_pred = pd.DataFrame({'target':y_test,'target_pred':y_pred})\n",
    "display(df_pred)\n",
    "\n",
    "# 真値と予測確率の表示\n",
    "df_pred_prob = pd.DataFrame({'target':y_test, 'target0_prob':1-y_pred_prob, 'target1_prob':y_pred_prob})\n",
    "display(df_pred_prob)"
   ]
  },
  {
   "cell_type": "code",
   "execution_count": 177,
   "metadata": {},
   "outputs": [
    {
     "name": "stdout",
     "output_type": "stream",
     "text": [
      "Acc : 0.7349284041416715\n",
      "logloss : 0.5093794628113785\n",
      "AUC : 0.7810608217989381\n"
     ]
    }
   ],
   "source": [
    "acc = accuracy_score(y_test,y_pred)\n",
    "print('Acc :', acc)\n",
    "\n",
    "# logloss \n",
    "logloss =  log_loss(y_test,y_pred_prob) # 引数 : log_loss(正解クラス,[クラス0の予測確率,クラス1の予測確率])\n",
    "print('logloss :', logloss)\n",
    "\n",
    "# AUC \n",
    "auc = roc_auc_score(y_test,y_pred_prob) # 引数 : roc_auc_score(正解クラス, クラス1の予測確率)\n",
    "print('AUC :', auc) "
   ]
  },
  {
   "cell_type": "code",
   "execution_count": 178,
   "metadata": {},
   "outputs": [
    {
     "data": {
      "image/png": "[encoded data removed]",
      "text/plain": [
       "<Figure size 640x480 with 1 Axes>"
      ]
     },
     "metadata": {},
     "output_type": "display_data"
    }
   ],
   "source": [
    "# ROC曲線の描画\n",
    "# cf : https://tips-memo.com/python-roc\n",
    "from sklearn import metrics\n",
    "from sklearn.metrics import roc_curve\n",
    "\n",
    "fpr, tpr, thresholds = roc_curve(y_test,y_pred_prob)\n",
    "auc = metrics.auc(fpr, tpr)\n",
    "plt.plot(fpr, tpr, label='ROC curve (area = %.2f)'%auc)\n",
    "plt.legend()\n",
    "plt.xlabel('FPR: False positive rate')\n",
    "plt.ylabel('TPR: True positive rate')\n",
    "plt.grid()\n",
    "plt.show()"
   ]
  },
  {
   "cell_type": "code",
   "execution_count": 1,
   "metadata": {},
   "outputs": [],
   "source": [
    "test_size = 0.3"
   ]
  },
  {
   "cell_type": "code",
   "execution_count": 2,
   "metadata": {},
   "outputs": [],
   "source": [
    "sort = 10000"
   ]
  },
  {
   "cell_type": "code",
   "execution_count": 3,
   "metadata": {},
   "outputs": [
    {
     "data": {
      "text/plain": [
       "7000.0"
      ]
     },
     "execution_count": 3,
     "metadata": {},
     "output_type": "execute_result"
    }
   ],
   "source": [
    "sort*(1-0.3)"
   ]
  },
  {
   "cell_type": "code",
   "execution_count": null,
   "metadata": {},
   "outputs": [],
   "source": []
  }
 ],
 "metadata": {
  "kernelspec": {
   "display_name": "base",
   "language": "python",
   "name": "python3"
  },
  "language_info": {
   "codemirror_mode": {
    "name": "ipython",
    "version": 3
   },
   "file_extension": ".py",
   "mimetype": "text/x-python",
   "name": "python",
   "nbconvert_exporter": "python",
   "pygments_lexer": "ipython3",
   "version": "3.7.12 | packaged by conda-forge | (default, Oct 26 2021, 06:08:53) \n[GCC 9.4.0]"
  },
  "orig_nbformat": 4,
  "vscode": {
   "interpreter": {
    "hash": "d4d1e4263499bec80672ea0156c357c1ee493ec2b1c70f0acce89fc37c4a6abe"
   }
  }
 },
 "nbformat": 4,
 "nbformat_minor": 2
}
